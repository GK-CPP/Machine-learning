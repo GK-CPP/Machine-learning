{
 "cells": [
  {
   "cell_type": "code",
   "execution_count": 1,
   "metadata": {},
   "outputs": [],
   "source": [
    "import numpy as np\n",
    "import matplotlib.pyplot as plt"
   ]
  },
  {
   "cell_type": "code",
   "execution_count": 2,
   "metadata": {},
   "outputs": [
    {
     "name": "stdout",
     "output_type": "stream",
     "text": [
      "[[ 2.5  1.7]\n",
      " [ 4.5  1.7]\n",
      " [-5.5 -3.3]\n",
      " [-1.5 -2.3]\n",
      " [-3.5 -1.3]\n",
      " [ 3.5  2.7]\n",
      " [ 3.5  3.7]\n",
      " [-3.5 -1.3]\n",
      " [-3.5 -2.3]\n",
      " [ 3.5  0.7]]\n"
     ]
    }
   ],
   "source": [
    "x=np.array([[14,5],[16,5],[6,0],[10,1],[8,2],[15,6],[15,7],[8,2],[8,1],[15,4]])\n",
    "\n",
    "\n",
    "x_avg=x.mean(axis=0)\n",
    "new_x=x-x_avg\n",
    "print(new_x)"
   ]
  },
  {
   "cell_type": "code",
   "execution_count": 3,
   "metadata": {},
   "outputs": [
    {
     "name": "stdout",
     "output_type": "stream",
     "text": [
      "[[14.72222222  8.38888889]\n",
      " [ 8.38888889  5.78888889]]\n"
     ]
    }
   ],
   "source": [
    "covM=np.dot(new_x.T,new_x)\n",
    "covM=covM/(len(new_x)-1)\n",
    "print(covM)"
   ]
  },
  {
   "cell_type": "code",
   "execution_count": 4,
   "metadata": {},
   "outputs": [
    {
     "name": "stdout",
     "output_type": "stream",
     "text": [
      "[ 0.75163174 19.75947937]\n",
      "[[ 0.51479058 -0.85731596]\n",
      " [-0.85731596 -0.51479058]]\n"
     ]
    }
   ],
   "source": [
    "ev,EV=np.linalg.eigh(covM)\n",
    "print(ev)\n",
    "print(EV)"
   ]
  },
  {
   "cell_type": "code",
   "execution_count": 5,
   "metadata": {},
   "outputs": [
    {
     "name": "stdout",
     "output_type": "stream",
     "text": [
      "[19.75947937  0.75163174]\n",
      "[[-0.85731596 -0.51479058]\n",
      " [ 0.51479058 -0.85731596]]\n"
     ]
    }
   ],
   "source": [
    "rev_ev=ev[::-1]\n",
    "rev_EV=EV[::-1]\n",
    "print(rev_ev)\n",
    "print(rev_EV)"
   ]
  },
  {
   "cell_type": "code",
   "execution_count": 6,
   "metadata": {},
   "outputs": [
    {
     "name": "stdout",
     "output_type": "stream",
     "text": [
      "96.335489894056 3.6645101059440126\n"
     ]
    }
   ],
   "source": [
    "first=(rev_ev[0]/(rev_ev[0]+rev_ev[1]))*100\n",
    "second=(rev_ev[1]/(rev_ev[0]+rev_ev[1]))*100\n",
    "\n",
    "print(first,second)"
   ]
  },
  {
   "cell_type": "code",
   "execution_count": 7,
   "metadata": {},
   "outputs": [
    {
     "name": "stdout",
     "output_type": "stream",
     "text": [
      "[[-3.01843389e+00 -1.70460691e-01]\n",
      " [-4.73306582e+00  8.59120466e-01]\n",
      " [ 6.41404671e+00 -2.20550373e-03]\n",
      " [ 2.46999227e+00  1.19964085e+00]\n",
      " [ 3.66983362e+00 -6.87256273e-01]\n",
      " [-4.39054043e+00 -5.12986075e-01]\n",
      " [-4.90533101e+00 -1.37030204e+00]\n",
      " [ 3.66983362e+00 -6.87256273e-01]\n",
      " [ 4.18462420e+00  1.70059690e-01]\n",
      " [-3.36095928e+00  1.20164585e+00]]\n"
     ]
    }
   ],
   "source": [
    "pc=[]\n",
    "for i in new_x:\n",
    "    pc1=np.dot(rev_EV[0], i)\n",
    "    pc2=np.dot(rev_EV[1], i)\n",
    "    pc.append([pc1,pc2])\n",
    "pc=np.array(pc)\n",
    "print(pc)"
   ]
  },
  {
   "cell_type": "code",
   "execution_count": 8,
   "metadata": {},
   "outputs": [
    {
     "name": "stdout",
     "output_type": "stream",
     "text": [
      "[array([14.08775156,  4.85386133]), array([15.55773288,  5.73653769]), array([ 6.00113537e+00, -1.89081355e-03]), array([9.38243619, 2.02847125]), array([8.35379305, 1.41080423]), array([15.2640804 ,  5.56020885]), array([15.70541858,  5.82521819]), array([8.35379305, 1.41080423]), array([7.91245487, 1.14579489]), array([14.38140404,  5.03019017])]\n"
     ]
    }
   ],
   "source": [
    "real_ar=[]\n",
    "for i in range(0,len(pc)):\n",
    "    a=pc[i][0]*rev_EV[0]\n",
    "    #b=pc[i][1]*rev_EV[1]\n",
    "    \n",
    "    recon=x_avg+a\n",
    "    #recon=recon+b\n",
    "    real_ar.append(recon)\n",
    "    \n",
    "print(real_ar)"
   ]
  }
 ],
 "metadata": {
  "kernelspec": {
   "display_name": "Python 3",
   "language": "python",
   "name": "python3"
  },
  "language_info": {
   "codemirror_mode": {
    "name": "ipython",
    "version": 3
   },
   "file_extension": ".py",
   "mimetype": "text/x-python",
   "name": "python",
   "nbconvert_exporter": "python",
   "pygments_lexer": "ipython3",
   "version": "3.7.3"
  }
 },
 "nbformat": 4,
 "nbformat_minor": 2
}
