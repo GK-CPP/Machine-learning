{
 "cells": [
  {
   "cell_type": "code",
   "execution_count": 29,
   "metadata": {},
   "outputs": [],
   "source": [
    ".........................................\n",
    "\n",
    "Linear Regression\n",
    "\n",
    "........................................."
   ]
  },
  {
   "cell_type": "code",
   "execution_count": null,
   "metadata": {},
   "outputs": [],
   "source": [
    "import numpy as np\n",
    "from math import *\n",
    "import matplotlib.pyplot as plt\n"
   ]
  },
  {
   "cell_type": "code",
   "execution_count": 30,
   "metadata": {},
   "outputs": [
    {
     "name": "stdout",
     "output_type": "stream",
     "text": [
      "    YearsExperience  Salary\n",
      "0               1.1   39343\n",
      "1               1.3   46205\n",
      "2               1.5   37731\n",
      "3               2.0   43525\n",
      "4               2.2   39891\n",
      "5               2.9   56642\n",
      "6               3.0   60150\n",
      "7               3.2   54445\n",
      "8               3.2   64445\n",
      "9               3.7   57189\n",
      "10              3.9   63218\n",
      "11              4.0   55794\n",
      "12              4.0   56957\n",
      "13              4.1   57081\n",
      "14              4.5   61111\n",
      "15              4.9   67938\n",
      "16              5.1   66029\n",
      "17              5.3   83088\n",
      "18              5.9   81363\n",
      "19              6.0   93940\n",
      "20              6.8   91738\n",
      "21              7.1   98273\n",
      "22              7.9  101302\n",
      "23              8.2  113812\n",
      "24              8.7  109431\n",
      "25              9.0  105582\n",
      "26              9.5  116969\n",
      "27              9.6  112635\n",
      "28             10.3  122391\n",
      "29             10.5  121872\n"
     ]
    }
   ],
   "source": [
    "#pwd\n",
    "import pandas as pd\n",
    "data_file=pd.read_csv('salary_data.csv')\n",
    "print(data_file)"
   ]
  },
  {
   "cell_type": "code",
   "execution_count": 31,
   "metadata": {},
   "outputs": [
    {
     "name": "stdout",
     "output_type": "stream",
     "text": [
      "0      1.1\n",
      "1      1.3\n",
      "2      1.5\n",
      "3      2.0\n",
      "4      2.2\n",
      "5      2.9\n",
      "6      3.0\n",
      "7      3.2\n",
      "8      3.2\n",
      "9      3.7\n",
      "10     3.9\n",
      "11     4.0\n",
      "12     4.0\n",
      "13     4.1\n",
      "14     4.5\n",
      "15     4.9\n",
      "16     5.1\n",
      "17     5.3\n",
      "18     5.9\n",
      "19     6.0\n",
      "20     6.8\n",
      "21     7.1\n",
      "22     7.9\n",
      "23     8.2\n",
      "24     8.7\n",
      "25     9.0\n",
      "26     9.5\n",
      "27     9.6\n",
      "28    10.3\n",
      "29    10.5\n",
      "Name: YearsExperience, dtype: float64\n",
      "0      39343\n",
      "1      46205\n",
      "2      37731\n",
      "3      43525\n",
      "4      39891\n",
      "5      56642\n",
      "6      60150\n",
      "7      54445\n",
      "8      64445\n",
      "9      57189\n",
      "10     63218\n",
      "11     55794\n",
      "12     56957\n",
      "13     57081\n",
      "14     61111\n",
      "15     67938\n",
      "16     66029\n",
      "17     83088\n",
      "18     81363\n",
      "19     93940\n",
      "20     91738\n",
      "21     98273\n",
      "22    101302\n",
      "23    113812\n",
      "24    109431\n",
      "25    105582\n",
      "26    116969\n",
      "27    112635\n",
      "28    122391\n",
      "29    121872\n",
      "Name: Salary, dtype: int64\n"
     ]
    }
   ],
   "source": [
    "x=data_file.YearsExperience;\n",
    "y=data_file.Salary;\n",
    "\n",
    "print(x)\n",
    "print(y)"
   ]
  },
  {
   "cell_type": "code",
   "execution_count": 32,
   "metadata": {},
   "outputs": [],
   "source": [
    "def line_equ(x,m,c):\n",
    "    h_y=[]\n",
    "    for i in x:\n",
    "        a=m*i+c;\n",
    "        h_y.append(a)\n",
    "    return h_y\n"
   ]
  },
  {
   "cell_type": "code",
   "execution_count": 33,
   "metadata": {},
   "outputs": [],
   "source": [
    "def error_dm(x,y,h_y):\n",
    "    a=0\n",
    "    for i,j,k in zip(x,y,h_y):\n",
    "        a+=(i*(j-k)) \n",
    "    ans=((2*a)*(-1))/len(x);\n",
    "    return ans\n",
    "        "
   ]
  },
  {
   "cell_type": "code",
   "execution_count": 34,
   "metadata": {},
   "outputs": [],
   "source": [
    "def error_dc(y,h_y):\n",
    "    a=0\n",
    "    for i,j in zip(y,h_y):\n",
    "        a+=(i-j)\n",
    "    ans=((2*a)*(-1))/len(y); \n",
    "    return ans"
   ]
  },
  {
   "cell_type": "code",
   "execution_count": 35,
   "metadata": {},
   "outputs": [],
   "source": [
    "def error_fun(y,h_y): \n",
    "    a=0\n",
    "    for i,j in zip(y,h_y):\n",
    "        a+=((i-j)**2)\n",
    "    ans=((a))/len(y); \n",
    "    return ans"
   ]
  },
  {
   "cell_type": "code",
   "execution_count": 36,
   "metadata": {},
   "outputs": [],
   "source": [
    "def learning_fun(x,y):\n",
    "    m=0\n",
    "    c=0\n",
    "    l=0.0001\n",
    "    loop=3000\n",
    "    for i in range(0,loop):\n",
    "        new_line_equ=line_equ(x,m,c) \n",
    "        new_dm=error_dm(x,y,new_line_equ)\n",
    "        new_dc=error_dc(y,new_line_equ)\n",
    "        m=m-(l*new_dm)\n",
    "        c=c-(l*new_dc)\n",
    "        error=error_fun(y,new_line_equ)\n",
    "    return [m,c],error\n"
   ]
  },
  {
   "cell_type": "code",
   "execution_count": 37,
   "metadata": {},
   "outputs": [
    {
     "name": "stdout",
     "output_type": "stream",
     "text": [
      "[12569.224052096484, 4772.323277270303] 126795682.4840192\n"
     ]
    }
   ],
   "source": [
    "ans,error=learning_fun(x,y)\n",
    "print(ans,error)"
   ]
  },
  {
   "cell_type": "code",
   "execution_count": 40,
   "metadata": {},
   "outputs": [],
   "source": [
    "def linear_re(x,y):\n",
    "    list_mc,e=learning_fun(x,y)\n",
    "    final_line_equ=line_equ(x,list_mc[0],list_mc[1])\n",
    "    plt.scatter(x,y) \n",
    "    plt.scatter(x, final_line_equ, color='red')\n",
    "    plt.plot(x, final_line_equ, color='red')\n",
    "    plt.show()"
   ]
  },
  {
   "cell_type": "code",
   "execution_count": 41,
   "metadata": {},
   "outputs": [
    {
     "data": {
      "image/png": "[encoded data removed]",
      "text/plain": [
       "<Figure size 432x288 with 1 Axes>"
      ]
     },
     "metadata": {
      "needs_background": "light"
     },
     "output_type": "display_data"
    }
   ],
   "source": [
    "linear_re(x,y)"
   ]
  },
  {
   "cell_type": "code",
   "execution_count": null,
   "metadata": {},
   "outputs": [],
   "source": [
    ".........................................\n",
    "\n",
    "\n",
    "K-Nearest Neighbors(KNN)_iris_data\n",
    "\n",
    "........................................."
   ]
  },
  {
   "cell_type": "code",
   "execution_count": 43,
   "metadata": {},
   "outputs": [
    {
     "name": "stdout",
     "output_type": "stream",
     "text": [
      "[[5.1 3.5 1.4 0.2]\n",
      " [4.9 3.  1.4 0.2]\n",
      " [4.7 3.2 1.3 0.2]\n",
      " [4.6 3.1 1.5 0.2]\n",
      " [5.  3.6 1.4 0.2]\n",
      " [5.4 3.9 1.7 0.4]\n",
      " [4.6 3.4 1.4 0.3]\n",
      " [5.  3.4 1.5 0.2]\n",
      " [4.4 2.9 1.4 0.2]\n",
      " [4.9 3.1 1.5 0.1]\n",
      " [5.4 3.7 1.5 0.2]\n",
      " [4.8 3.4 1.6 0.2]\n",
      " [4.8 3.  1.4 0.1]\n",
      " [4.3 3.  1.1 0.1]\n",
      " [5.8 4.  1.2 0.2]\n",
      " [5.7 4.4 1.5 0.4]\n",
      " [5.4 3.9 1.3 0.4]\n",
      " [5.1 3.5 1.4 0.3]\n",
      " [5.7 3.8 1.7 0.3]\n",
      " [5.1 3.8 1.5 0.3]\n",
      " [5.4 3.4 1.7 0.2]\n",
      " [5.1 3.7 1.5 0.4]\n",
      " [4.6 3.6 1.  0.2]\n",
      " [5.1 3.3 1.7 0.5]\n",
      " [4.8 3.4 1.9 0.2]\n",
      " [5.  3.  1.6 0.2]\n",
      " [5.  3.4 1.6 0.4]\n",
      " [5.2 3.5 1.5 0.2]\n",
      " [5.2 3.4 1.4 0.2]\n",
      " [4.7 3.2 1.6 0.2]\n",
      " [4.8 3.1 1.6 0.2]\n",
      " [5.4 3.4 1.5 0.4]\n",
      " [5.2 4.1 1.5 0.1]\n",
      " [5.5 4.2 1.4 0.2]\n",
      " [4.9 3.1 1.5 0.2]\n",
      " [5.  3.2 1.2 0.2]\n",
      " [5.5 3.5 1.3 0.2]\n",
      " [4.9 3.6 1.4 0.1]\n",
      " [4.4 3.  1.3 0.2]\n",
      " [5.1 3.4 1.5 0.2]\n",
      " [5.  3.5 1.3 0.3]\n",
      " [4.5 2.3 1.3 0.3]\n",
      " [4.4 3.2 1.3 0.2]\n",
      " [5.  3.5 1.6 0.6]\n",
      " [5.1 3.8 1.9 0.4]\n",
      " [4.8 3.  1.4 0.3]\n",
      " [5.1 3.8 1.6 0.2]\n",
      " [4.6 3.2 1.4 0.2]\n",
      " [5.3 3.7 1.5 0.2]\n",
      " [5.  3.3 1.4 0.2]\n",
      " [7.  3.2 4.7 1.4]\n",
      " [6.4 3.2 4.5 1.5]\n",
      " [6.9 3.1 4.9 1.5]\n",
      " [5.5 2.3 4.  1.3]\n",
      " [6.5 2.8 4.6 1.5]\n",
      " [5.7 2.8 4.5 1.3]\n",
      " [6.3 3.3 4.7 1.6]\n",
      " [4.9 2.4 3.3 1. ]\n",
      " [6.6 2.9 4.6 1.3]\n",
      " [5.2 2.7 3.9 1.4]\n",
      " [5.  2.  3.5 1. ]\n",
      " [5.9 3.  4.2 1.5]\n",
      " [6.  2.2 4.  1. ]\n",
      " [6.1 2.9 4.7 1.4]\n",
      " [5.6 2.9 3.6 1.3]\n",
      " [6.7 3.1 4.4 1.4]\n",
      " [5.6 3.  4.5 1.5]\n",
      " [5.8 2.7 4.1 1. ]\n",
      " [6.2 2.2 4.5 1.5]\n",
      " [5.6 2.5 3.9 1.1]\n",
      " [5.9 3.2 4.8 1.8]\n",
      " [6.1 2.8 4.  1.3]\n",
      " [6.3 2.5 4.9 1.5]\n",
      " [6.1 2.8 4.7 1.2]\n",
      " [6.4 2.9 4.3 1.3]\n",
      " [6.6 3.  4.4 1.4]\n",
      " [6.8 2.8 4.8 1.4]\n",
      " [6.7 3.  5.  1.7]\n",
      " [6.  2.9 4.5 1.5]\n",
      " [5.7 2.6 3.5 1. ]\n",
      " [5.5 2.4 3.8 1.1]\n",
      " [5.5 2.4 3.7 1. ]\n",
      " [5.8 2.7 3.9 1.2]\n",
      " [6.  2.7 5.1 1.6]\n",
      " [5.4 3.  4.5 1.5]\n",
      " [6.  3.4 4.5 1.6]\n",
      " [6.7 3.1 4.7 1.5]\n",
      " [6.3 2.3 4.4 1.3]\n",
      " [5.6 3.  4.1 1.3]\n",
      " [5.5 2.5 4.  1.3]\n",
      " [5.5 2.6 4.4 1.2]\n",
      " [6.1 3.  4.6 1.4]\n",
      " [5.8 2.6 4.  1.2]\n",
      " [5.  2.3 3.3 1. ]\n",
      " [5.6 2.7 4.2 1.3]\n",
      " [5.7 3.  4.2 1.2]\n",
      " [5.7 2.9 4.2 1.3]\n",
      " [6.2 2.9 4.3 1.3]\n",
      " [5.1 2.5 3.  1.1]\n",
      " [5.7 2.8 4.1 1.3]\n",
      " [6.3 3.3 6.  2.5]\n",
      " [5.8 2.7 5.1 1.9]\n",
      " [7.1 3.  5.9 2.1]\n",
      " [6.3 2.9 5.6 1.8]\n",
      " [6.5 3.  5.8 2.2]\n",
      " [7.6 3.  6.6 2.1]\n",
      " [4.9 2.5 4.5 1.7]\n",
      " [7.3 2.9 6.3 1.8]\n",
      " [6.7 2.5 5.8 1.8]\n",
      " [7.2 3.6 6.1 2.5]\n",
      " [6.5 3.2 5.1 2. ]\n",
      " [6.4 2.7 5.3 1.9]\n",
      " [6.8 3.  5.5 2.1]\n",
      " [5.7 2.5 5.  2. ]\n",
      " [5.8 2.8 5.1 2.4]\n",
      " [6.4 3.2 5.3 2.3]\n",
      " [6.5 3.  5.5 1.8]\n",
      " [7.7 3.8 6.7 2.2]\n",
      " [7.7 2.6 6.9 2.3]\n",
      " [6.  2.2 5.  1.5]\n",
      " [6.9 3.2 5.7 2.3]\n",
      " [5.6 2.8 4.9 2. ]\n",
      " [7.7 2.8 6.7 2. ]\n",
      " [6.3 2.7 4.9 1.8]\n",
      " [6.7 3.3 5.7 2.1]\n",
      " [7.2 3.2 6.  1.8]\n",
      " [6.2 2.8 4.8 1.8]\n",
      " [6.1 3.  4.9 1.8]\n",
      " [6.4 2.8 5.6 2.1]\n",
      " [7.2 3.  5.8 1.6]\n",
      " [7.4 2.8 6.1 1.9]\n",
      " [7.9 3.8 6.4 2. ]\n",
      " [6.4 2.8 5.6 2.2]\n",
      " [6.3 2.8 5.1 1.5]\n",
      " [6.1 2.6 5.6 1.4]\n",
      " [7.7 3.  6.1 2.3]\n",
      " [6.3 3.4 5.6 2.4]\n",
      " [6.4 3.1 5.5 1.8]\n",
      " [6.  3.  4.8 1.8]\n",
      " [6.9 3.1 5.4 2.1]\n",
      " [6.7 3.1 5.6 2.4]\n",
      " [6.9 3.1 5.1 2.3]\n",
      " [5.8 2.7 5.1 1.9]\n",
      " [6.8 3.2 5.9 2.3]\n",
      " [6.7 3.3 5.7 2.5]\n",
      " [6.7 3.  5.2 2.3]\n",
      " [6.3 2.5 5.  1.9]\n",
      " [6.5 3.  5.2 2. ]\n",
      " [6.2 3.4 5.4 2.3]\n",
      " [5.9 3.  5.1 1.8]]\n",
      "[0 0 0 0 0 0 0 0 0 0 0 0 0 0 0 0 0 0 0 0 0 0 0 0 0 0 0 0 0 0 0 0 0 0 0 0 0\n",
      " 0 0 0 0 0 0 0 0 0 0 0 0 0 1 1 1 1 1 1 1 1 1 1 1 1 1 1 1 1 1 1 1 1 1 1 1 1\n",
      " 1 1 1 1 1 1 1 1 1 1 1 1 1 1 1 1 1 1 1 1 1 1 1 1 1 1 2 2 2 2 2 2 2 2 2 2 2\n",
      " 2 2 2 2 2 2 2 2 2 2 2 2 2 2 2 2 2 2 2 2 2 2 2 2 2 2 2 2 2 2 2 2 2 2 2 2 2\n",
      " 2 2]\n",
      "150\n",
      "150\n"
     ]
    }
   ],
   "source": [
    "import numpy as np\n",
    "from math import *\n",
    "from sklearn.model_selection import train_test_split\n",
    "from sklearn import datasets\n",
    "from collections import Counter\n",
    "\n",
    "iris = datasets.load_iris() \n",
    "x = iris.data\n",
    "y = iris.target\n",
    "test_list=[5.1,3.0,4.2,1.5]\n",
    "k=3\n",
    "print(x)\n",
    "print(y)\n",
    "print(len(x))\n",
    "print(len(y))"
   ]
  },
  {
   "cell_type": "code",
   "execution_count": 44,
   "metadata": {},
   "outputs": [
    {
     "name": "stdout",
     "output_type": "stream",
     "text": [
      "{3.1272991542223783: 0, 3.093541659651604: 0, 3.2093613071762426: 0, 3.0397368307141326: 0, 3.146426544510455: 0, 2.891366458960192: 0, 3.1128764832546763: 0, 3.024896692450835: 0, 3.167017524422623: 0, 3.0495901363953815: 0, 3.0919249667480617: 0, 2.9495762407505253: 0, 3.144837038703278: 0, 3.4942810419312296: 0, 3.4899856733230297: 0, 3.289376840679706: 0, 3.2434549480453714: 0, 3.0870698080866266: 0, 2.947880594596735: 0, 3.0610455730027937: 0, 2.8618176042508368: 0, 2.99833287011299: 0, 3.5411862419251547: 0, 2.7092434368288134: 0, 2.6888659319497505: 0, 2.9086079144497976: 0, 2.8530685235374214: 0, 3.1144823004794877: 0, 2.9410882339705484: 0, 2.924038303442689: 0, 2.9580398915498085: 0, 3.235737937472687: 0, 3.336165463522456: 0, 3.004995840263344: 0, 3.277193921634788: 0, 3.241913015489466: 0, 3.1937438845342627: 0, 3.254228019054596: 0, 3.023243291566195: 0, 3.1796226191169294: 0, 3.2710854467592254: 0, 3.2603680773802215: 0, 2.7982137159266447: 0, 2.6720778431774774: 0, 3.014962686336267: 0, 3.13368792319848: 0, 3.083828789021855: 0, 3.10322412983658: 0, 1.9773719933285192: 1, 1.349073756323205: 1, 1.9339079605813723: 1, 0.8544003745317535: 1, 1.4696938456699071: 1, 0.7280109889280523: 1, 1.3379088160259653: 1, 1.2083045973594573: 1, 1.5684387141358123: 1, 0.44721359549995815: 1, 1.3228756555322954: 1, 0.8000000000000007: 1, 1.319090595827292: 1, 1.1269427669584644: 1, 0.8124038404635961: 1, 1.6186414056238652: 1, 0.58309518948453: 1, 0.9165151389911682: 1, 1.392838827718412: 1, 0.8660254037844387: 1, 1.0630145812734653: 1, 1.0583005244258363: 1, 1.4764823060233403: 1, 1.174734012447073: 1, 1.322875655532296: 1, 1.5165750888103102: 1, 1.8165902124584952: 1, 1.8000000000000005: 1, 0.9539392014169459: 1, 1.1224972160321829: 1, 0.9165151389911683: 1, 1.009950493836208: 1, 0.871779788708135: 1, 1.3114877048604: 1, 0.4242640687119289: 1, 1.0344080432788603: 1, 1.6792855623746672: 1, 1.4177446878757827: 1, 0.5477225575051662: 1, 0.7000000000000002: 1, 0.6708203932499371: 1, 1.0816653826391966: 1, 0.8831760866327848: 1, 1.24899959967968: 1, 0.6164414002968975: 1, 0.6708203932499374: 1, 0.6403124237432853: 1, 1.126942766958465: 1, 1.3601470508735445: 1, 0.6708203932499376: 1, 2.4020824298928627: 2, 1.244989959798873: 2, 2.6925824035672523: 2, 1.8708286933869704: 2, 2.238302928559939: 2, 3.5171010790137944: 2, 0.6480740698407857: 2, 3.057776970284131: 2, 2.3366642891095846: 2, 3.062678566222711: 2, 1.7492855684535902: 2, 1.774823934929885: 2, 2.222611077089287: 2, 1.2247448713915892: 2, 1.4662878298615178: 2, 1.8920887928424504: 2, 1.9339079605813716: 2, 3.7603191353926335: 2, 3.8535697735995393: 2, 1.445683229480096: 2, 2.4839484696748446: 2, 1.0148891565092222: 2, 3.646916505762094: 2, 1.452583904633395: 2, 2.2934689882359436: 2, 2.7892651361962706: 2, 1.30384048104053: 2, 1.2569805089976536: 2, 2.012461179749811: 2, 2.6419689627245813: 2, 3.0166206257996713: 2, 3.683748091278773: 2, 2.0445048300260873: 2, 1.5132745950421556: 2, 1.7691806012954128: 2, 3.318132004607412: 2, 2.0904544960366866: 2, 1.8654758106177634: 2, 1.1224972160321824: 2, 2.247220505424424: 2, 2.3108440016582685: 2, 2.1679483388678804: 2, 2.541653005427767: 2, 2.428991560298224: 2, 2.04939015319192: 2, 1.57797338380595: 2, 1.791647286716892: 2, 1.8574175621006712: 2, 1.2409673645990857: 2}\n"
     ]
    }
   ],
   "source": [
    "dt={}\n",
    "kk=0\n",
    "for i in range(0,len(x)):\n",
    "    s=0;\n",
    "    for j in range(0,len(x[i])):\n",
    "        s=s+(((x[i][j])-test_list[j])**2)\n",
    "    rt=sqrt(s);\n",
    "    dt[rt]=y[kk]\n",
    "    kk=kk+1\n",
    "print (dt)"
   ]
  },
  {
   "cell_type": "code",
   "execution_count": 45,
   "metadata": {},
   "outputs": [
    {
     "name": "stdout",
     "output_type": "stream",
     "text": [
      "{0.4242640687119289: 1, 0.44721359549995815: 1, 0.5477225575051662: 1, 0.58309518948453: 1, 0.6164414002968975: 1, 0.6403124237432853: 1, 0.6480740698407857: 2, 0.6708203932499371: 1, 0.6708203932499374: 1, 0.6708203932499376: 1, 0.7000000000000002: 1, 0.7280109889280523: 1, 0.8000000000000007: 1, 0.8124038404635961: 1, 0.8544003745317535: 1, 0.8660254037844387: 1, 0.871779788708135: 1, 0.8831760866327848: 1, 0.9165151389911682: 1, 0.9165151389911683: 1, 0.9539392014169459: 1, 1.009950493836208: 1, 1.0148891565092222: 2, 1.0344080432788603: 1, 1.0583005244258363: 1, 1.0630145812734653: 1, 1.0816653826391966: 1, 1.1224972160321824: 2, 1.1224972160321829: 1, 1.1269427669584644: 1, 1.126942766958465: 1, 1.174734012447073: 1, 1.2083045973594573: 1, 1.2247448713915892: 2, 1.2409673645990857: 2, 1.244989959798873: 2, 1.24899959967968: 1, 1.2569805089976536: 2, 1.30384048104053: 2, 1.3114877048604: 1, 1.319090595827292: 1, 1.3228756555322954: 1, 1.322875655532296: 1, 1.3379088160259653: 1, 1.349073756323205: 1, 1.3601470508735445: 1, 1.392838827718412: 1, 1.4177446878757827: 1, 1.445683229480096: 2, 1.452583904633395: 2, 1.4662878298615178: 2, 1.4696938456699071: 1, 1.4764823060233403: 1, 1.5132745950421556: 2, 1.5165750888103102: 1, 1.5684387141358123: 1, 1.57797338380595: 2, 1.6186414056238652: 1, 1.6792855623746672: 1, 1.7492855684535902: 2, 1.7691806012954128: 2, 1.774823934929885: 2, 1.791647286716892: 2, 1.8000000000000005: 1, 1.8165902124584952: 1, 1.8574175621006712: 2, 1.8654758106177634: 2, 1.8708286933869704: 2, 1.8920887928424504: 2, 1.9339079605813716: 2, 1.9339079605813723: 1, 1.9773719933285192: 1, 2.012461179749811: 2, 2.0445048300260873: 2, 2.04939015319192: 2, 2.0904544960366866: 2, 2.1679483388678804: 2, 2.222611077089287: 2, 2.238302928559939: 2, 2.247220505424424: 2, 2.2934689882359436: 2, 2.3108440016582685: 2, 2.3366642891095846: 2, 2.4020824298928627: 2, 2.428991560298224: 2, 2.4839484696748446: 2, 2.541653005427767: 2, 2.6419689627245813: 2, 2.6720778431774774: 0, 2.6888659319497505: 0, 2.6925824035672523: 2, 2.7092434368288134: 0, 2.7892651361962706: 2, 2.7982137159266447: 0, 2.8530685235374214: 0, 2.8618176042508368: 0, 2.891366458960192: 0, 2.9086079144497976: 0, 2.924038303442689: 0, 2.9410882339705484: 0, 2.947880594596735: 0, 2.9495762407505253: 0, 2.9580398915498085: 0, 2.99833287011299: 0, 3.004995840263344: 0, 3.014962686336267: 0, 3.0166206257996713: 2, 3.023243291566195: 0, 3.024896692450835: 0, 3.0397368307141326: 0, 3.0495901363953815: 0, 3.057776970284131: 2, 3.0610455730027937: 0, 3.062678566222711: 2, 3.083828789021855: 0, 3.0870698080866266: 0, 3.0919249667480617: 0, 3.093541659651604: 0, 3.10322412983658: 0, 3.1128764832546763: 0, 3.1144823004794877: 0, 3.1272991542223783: 0, 3.13368792319848: 0, 3.144837038703278: 0, 3.146426544510455: 0, 3.167017524422623: 0, 3.1796226191169294: 0, 3.1937438845342627: 0, 3.2093613071762426: 0, 3.235737937472687: 0, 3.241913015489466: 0, 3.2434549480453714: 0, 3.254228019054596: 0, 3.2603680773802215: 0, 3.2710854467592254: 0, 3.277193921634788: 0, 3.289376840679706: 0, 3.318132004607412: 2, 3.336165463522456: 0, 3.4899856733230297: 0, 3.4942810419312296: 0, 3.5171010790137944: 2, 3.5411862419251547: 0, 3.646916505762094: 2, 3.683748091278773: 2, 3.7603191353926335: 2, 3.8535697735995393: 2}\n",
      "output : 0 -> 0   1 -> 3   2 -> 0\n",
      "ans_y: 1\n"
     ]
    }
   ],
   "source": [
    "dt2={}\n",
    "for i in sorted(dt):\n",
    "    dt2[i]=dt[i]\n",
    "print(dt2)\n",
    "l1=l2=l3=ma=0\n",
    "for i in dt2.values():\n",
    "    if(i==0):\n",
    "        l1+=1\n",
    "    if(i==1):\n",
    "        l2+=1\n",
    "    if(i==2):\n",
    "        l3+=1\n",
    "    k=k-1;\n",
    "    if(k==0):\n",
    "        break\n",
    "print (\"output :\",0,\"->\",l1,\" \",1,\"->\",l2,\" \",2,\"->\",l3)\n",
    "print(\"ans_y: \",end=\"\")\n",
    "ma=max(l1,max(l2,l3))\n",
    "if(l1==ma):\n",
    "    print(0)\n",
    "elif (l2==ma):\n",
    "    print(1)\n",
    "else:\n",
    "    print(2)"
   ]
  },
  {
   "cell_type": "code",
   "execution_count": null,
   "metadata": {},
   "outputs": [],
   "source": [
    ".........................................\n",
    "\n",
    "Naive bayes(laplace smoothig)\n",
    "\n",
    "........................................."
   ]
  },
  {
   "cell_type": "code",
   "execution_count": 48,
   "metadata": {},
   "outputs": [
    {
     "name": "stdout",
     "output_type": "stream",
     "text": [
      "44 49 93\n"
     ]
    }
   ],
   "source": [
    "import numpy as np\n",
    "from math import *\n",
    "from sklearn.model_selection import train_test_split\n",
    "from sklearn import datasets\n",
    "from collections import Counter\n",
    "     \n",
    "spam=[\"আমরা ঈদে বাড়ি যাবো না\",\n",
    "     \"করিম বাড়ি যাবে না\",\n",
    "     \"করিম গান শুনতে পছন্দ করে না\",\n",
    "     \"আজকে আমরা হারবো\",\n",
    "     \"সে আজকে আসবে না\",\n",
    "    \"স্যার রোবট ভালোবাসেন না\",\n",
    "     \"সে খারাপ গান গায়\",\n",
    "     \"কেউ তাদের পছন্দ করে না\",\n",
    "     \"আমি ভ্রমণ পছন্দ করি না \",\n",
    "     \"ভ্রমণ করা খুব খারাপ\",\n",
    "     \"আমরা কেউ ভ্রমণে যাই না\",\n",
    "     \"রোবট খারাপ গান করে\",\n",
    "     \"সে স্কুলে পড়া পারে না \",\n",
    "     \"স্যারের হাসি সুন্দর না\",\n",
    "     \"আমাদের ডিপার্ট্মেন্ট খারাপ\",\n",
    "     \"সে স্কুল যায় না \",\n",
    "     \"আমি রোবট পছন্দ করি না\",\n",
    "      \"সেদিন ক্লাস হয় নাই\",\n",
    "     \"আমরা কেউ ভ্রমণে যাই না\",\n",
    "     \"আমি তাকে পছন্দ করি না\",\n",
    "     \"তারা খারাপ  বন্ধু\",\n",
    "     \"সে খারাপ ছাত্র\",\n",
    "     \"আমরা খেলায় যাই না\"\n",
    "     \"আমাদের ডিপার্ট্মেন্ট খেলায় খুব খারাপ \",\n",
    "     \"রোবট নিজে নিজে কথা বলতে পারে না\",\n",
    "     \"রোবট তৈরি করা খারাপ\",\n",
    "     \"সে আমাকে মেরেছে\",\n",
    "     \"ক্লাসে কেউ নাই\",\n",
    "     \"বাংলাদেশ সুন্দর না\",\n",
    "     \"আমি দেশকে ভালোবাসি না\",\n",
    "    \"স্যারের রোবট খারাপ কথা বলতে পারে\",\n",
    "     \"তারা ছবি দেখতে পছন্দ করে না\",\n",
    "     \"আমরা সবাই ছবি দেখি না\",\n",
    "     \"দেশ সকল খারাপ\",\n",
    "     \"দেশ মায়ের সমান না\",\n",
    "     \"কাউকে সম্মান করবো না\",\n",
    "     \"তারা সবাই খুব খারাপ\",\n",
    "     \"ঈদে বাড়ি যাব না\",\n",
    "     \"পাখি দেখতে সুন্দর না\",\n",
    "     \"ছবিটি অনেক খারাপ\",\n",
    "     \"আমরা পারবো খারাপ রোবট তৈরি করতে\"\n",
    "     \"পাখি গান গায় না\",\n",
    "     \"পাখি কথা বলে না\",\n",
    "     \"আমি পাখি পছন্দ করি না\",\n",
    "     \"পাখি আকাশে উড়তে পারে না\",\n",
    "     \"পাখির বাচ্চা দেখতে খুব সুন্দর না\",]\n",
    "\n",
    "ham=[\"আমি ভ্রমণ পছন্দ করি\",\n",
    "     \"ভ্রমণ করা খুব আনন্দের\",\n",
    "     \"আমরা সবাই ভ্রমণে যাই\",\n",
    "     \"আমি তাকে খুব পছন্দ করি\",\n",
    "     \"সে আমাকে জানে ভালো করে\",\n",
    "    \"পাখি গান গায়\",\n",
    "     \"পাখি কথা বলে\",\n",
    "     \"আমি পাখি পছন্দ করি\",\n",
    "     \"পাখি আকাশে উড়তে পারে\",\n",
    "     \"পাখির বাচ্চা দেখতে খুব সুন্দর\",\n",
    "     \"স্যারের রোবট কথা বলতে পারে\",\n",
    "     \"তারা ছবি দেখতে পছন্দ করে\",\n",
    "     \"আমরা সবাই ছবি দেখি\",\n",
    "     \"ছবিটি অনেক সুন্দর\",\n",
    "    \"স্যারের হাসি খুব সুন্দর\",\n",
    "     \"আমাদের ডিপার্ট্মেন্ট ভালো\",\n",
    "     \"সে স্কুল যায়\",\n",
    "     \"আমি রোবট পছন্দ করি\",\n",
    "     \"তারা ভালো বন্ধু\",\n",
    "     \"সে ভালো ছাত্র\",\n",
    "     \"স্যার রোবট ভালোবাসেন\",\n",
    "     \"সে গান গায়\",\n",
    "    \"আমি ভালো আছি\",\n",
    "     \"আমি যাচ্ছি সেখানে\",\n",
    "     \"সকল শিক্ষক খুব ভালো\",\n",
    "     \"রোবট কথা বলে\",\n",
    "     \"রোবট খুব ভালো\",\n",
    "     \"রোবট গান করে\",\n",
    "     \"সে স্কুলে পড়া পারে\",\n",
    "     \"সবাই তাদের পছন্দ করে\",\n",
    "     \"আমরা খেলায় যাই\"\n",
    "     \"আমাদের ডিপার্ট্মেন্ট খেলায় খুব ভালো\",\n",
    "     \"করিম গান শুনতে পছন্দ করে\",\n",
    "     \"আজ আমরা জিতব \",\n",
    "     \"সে আজকে আসবে \",\n",
    "     \"আমরা পারবো রোবট তৈরি করতে\"\n",
    "     \"রোবট নিজে নিজে কথা বলতে পারে\",\n",
    "     \"রোবট তৈরি করা সহজ\",\n",
    "     \"সেদিন ক্লাস হয়েছে\",\n",
    "     \"ক্লাসে সবাই আছে\",\n",
    "     \"বাংলাদেশ সুন্দর\",\n",
    "     \"বাংলাদেশ সুন্দর\",\n",
    "     \"আমি দেশকে ভালোবাসি\",\n",
    "     \"দেশ সকলের মা\",\n",
    "     \"দেশ মায়ের সমান\",\n",
    "     \"সবাই কে সম্মান করবো\",\n",
    "     \"তারা সবাই খুব ভালো\",\n",
    "     \"ঈদে বাড়ি যাবো\",\n",
    "     \"পাখি দেখতে সুন্দর\",\n",
    "     \"আমরা ঈদে বাড়ি যাবো\",\n",
    "     \"করিম বাড়ি যাবে\",]\n",
    "\n",
    "spam_len=len(spam)\n",
    "ham_len=len(ham)\n",
    "c=spam.copy()\n",
    "c.extend(ham)\n",
    "total_len=len(c)\n",
    "print(spam_len,ham_len,total_len)\n"
   ]
  },
  {
   "cell_type": "code",
   "execution_count": 49,
   "metadata": {},
   "outputs": [
    {
     "name": "stdout",
     "output_type": "stream",
     "text": [
      "{'আমরা': 13, 'ঈদে': 4, 'বাড়ি': 6, 'যাবো': 3, 'না': 28, 'করিম': 4, 'যাবে': 2, 'গান': 8, 'শুনতে': 2, 'পছন্দ': 14, 'করে': 9, 'আজকে': 3, 'হারবো': 1, 'সে': 12, 'আসবে': 2, 'স্যার': 2, 'রোবট': 15, 'ভালোবাসেন': 2, 'খারাপ': 13, 'গায়': 4, 'কেউ': 4, 'তাদের': 2, 'আমি': 12, 'ভ্রমণ': 4, 'করি': 8, '': 7, 'করা': 4, 'খুব': 12, 'ভ্রমণে': 3, 'যাই': 4, 'স্কুলে': 2, 'পড়া': 2, 'পারে': 8, 'স্যারের': 4, 'হাসি': 2, 'সুন্দর': 10, 'আমাদের': 2, 'ডিপার্ট্মেন্ট': 4, 'স্কুল': 2, 'যায়': 2, 'সেদিন': 2, 'ক্লাস': 2, 'হয়': 1, 'নাই': 2, 'তাকে': 2, 'তারা': 6, 'বন্ধু': 2, 'ছাত্র': 2, 'খেলায়': 4, 'নাআমাদের': 1, 'নিজে': 4, 'কথা': 7, 'বলতে': 4, 'তৈরি': 4, 'আমাকে': 2, 'মেরেছে': 1, 'ক্লাসে': 2, 'বাংলাদেশ': 3, 'দেশকে': 2, 'ভালোবাসি': 2, 'ছবি': 4, 'দেখতে': 6, 'সবাই': 8, 'দেখি': 2, 'দেশ': 4, 'সকল': 2, 'মায়ের': 2, 'সমান': 2, 'কাউকে': 1, 'সম্মান': 2, 'করবো': 2, 'যাব': 1, 'পাখি': 9, 'ছবিটি': 2, 'অনেক': 2, 'পারবো': 2, 'করতেপাখি': 1, 'বলে': 3, 'আকাশে': 2, 'উড়তে': 2, 'পাখির': 2, 'বাচ্চা': 2, 'আনন্দের': 1, 'জানে': 1, 'ভালো': 9, 'আছি': 1, 'যাচ্ছি': 1, 'সেখানে': 1, 'শিক্ষক': 1, 'যাইআমাদের': 1, 'আজ': 1, 'জিতব': 1, 'করতেরোবট': 1, 'সহজ': 1, 'হয়েছে': 1, 'আছে': 1, 'সকলের': 1, 'মা': 1, 'কে': 1} \n",
      "\n",
      "{'আমরা': 7, 'ঈদে': 2, 'বাড়ি': 3, 'যাবো': 1, 'না': 28, 'করিম': 2, 'যাবে': 1, 'গান': 4, 'শুনতে': 1, 'পছন্দ': 7, 'করে': 4, 'আজকে': 2, 'হারবো': 1, 'সে': 6, 'আসবে': 1, 'স্যার': 1, 'রোবট': 7, 'ভালোবাসেন': 1, 'খারাপ': 13, 'গায়': 2, 'কেউ': 4, 'তাদের': 1, 'আমি': 5, 'ভ্রমণ': 2, 'করি': 4, '': 5, 'করা': 2, 'খুব': 4, 'ভ্রমণে': 2, 'যাই': 3, 'স্কুলে': 1, 'পড়া': 1, 'পারে': 4, 'স্যারের': 2, 'হাসি': 1, 'সুন্দর': 4, 'আমাদের': 1, 'ডিপার্ট্মেন্ট': 2, 'স্কুল': 1, 'যায়': 1, 'সেদিন': 1, 'ক্লাস': 1, 'হয়': 1, 'নাই': 2, 'তাকে': 1, 'তারা': 3, 'বন্ধু': 1, 'ছাত্র': 1, 'খেলায়': 2, 'নাআমাদের': 1, 'নিজে': 2, 'কথা': 3, 'বলতে': 2, 'তৈরি': 2, 'আমাকে': 1, 'মেরেছে': 1, 'ক্লাসে': 1, 'বাংলাদেশ': 1, 'দেশকে': 1, 'ভালোবাসি': 1, 'ছবি': 2, 'দেখতে': 3, 'সবাই': 2, 'দেখি': 1, 'দেশ': 2, 'সকল': 1, 'মায়ের': 1, 'সমান': 1, 'কাউকে': 1, 'সম্মান': 1, 'করবো': 1, 'যাব': 1, 'পাখি': 4, 'ছবিটি': 1, 'অনেক': 1, 'পারবো': 1, 'করতেপাখি': 1, 'বলে': 1, 'আকাশে': 1, 'উড়তে': 1, 'পাখির': 1, 'বাচ্চা': 1}\n",
      "{'আমি': 7, 'ভ্রমণ': 2, 'পছন্দ': 7, 'করি': 4, 'করা': 2, 'খুব': 8, 'আনন্দের': 1, 'আমরা': 6, 'সবাই': 6, 'ভ্রমণে': 1, 'যাই': 1, 'তাকে': 1, 'সে': 6, 'আমাকে': 1, 'জানে': 1, 'ভালো': 9, 'করে': 5, 'পাখি': 5, 'গান': 4, 'গায়': 2, 'কথা': 4, 'বলে': 2, 'আকাশে': 1, 'উড়তে': 1, 'পারে': 4, 'পাখির': 1, 'বাচ্চা': 1, 'দেখতে': 3, 'সুন্দর': 6, 'স্যারের': 2, 'রোবট': 8, 'বলতে': 2, 'তারা': 3, 'ছবি': 2, 'দেখি': 1, 'ছবিটি': 1, 'অনেক': 1, 'হাসি': 1, 'আমাদের': 1, 'ডিপার্ট্মেন্ট': 2, 'স্কুল': 1, 'যায়': 1, 'বন্ধু': 1, 'ছাত্র': 1, 'স্যার': 1, 'ভালোবাসেন': 1, 'আছি': 1, 'যাচ্ছি': 1, 'সেখানে': 1, 'সকল': 1, 'শিক্ষক': 1, 'স্কুলে': 1, 'পড়া': 1, 'তাদের': 1, 'খেলায়': 2, 'যাইআমাদের': 1, 'করিম': 2, 'শুনতে': 1, 'আজ': 1, 'জিতব': 1, '': 2, 'আজকে': 1, 'আসবে': 1, 'পারবো': 1, 'তৈরি': 2, 'করতেরোবট': 1, 'নিজে': 2, 'সহজ': 1, 'সেদিন': 1, 'ক্লাস': 1, 'হয়েছে': 1, 'ক্লাসে': 1, 'আছে': 1, 'বাংলাদেশ': 2, 'দেশকে': 1, 'ভালোবাসি': 1, 'দেশ': 2, 'সকলের': 1, 'মা': 1, 'মায়ের': 1, 'সমান': 1, 'কে': 1, 'সম্মান': 1, 'করবো': 1, 'ঈদে': 2, 'বাড়ি': 3, 'যাবো': 2, 'যাবে': 1}\n",
      "388 203 185\n"
     ]
    }
   ],
   "source": [
    "total={}\n",
    "spam_c={}\n",
    "ham_c={}\n",
    "\n",
    "for i in spam:\n",
    "    for j in i.split(' '):\n",
    "            if j in spam_c:\n",
    "                spam_c[j]+=1\n",
    "            else:\n",
    "                spam_c[j]=1\n",
    "\n",
    "for i in ham:\n",
    "    for j in i.split(' '):\n",
    "            if j in ham_c:\n",
    "                ham_c[j]+=1\n",
    "            else:\n",
    "                ham_c[j]=1\n",
    "\n",
    "\n",
    "for i in c:\n",
    "    for j in i.split(' '):\n",
    "            if j in total:\n",
    "                total[j]+=1\n",
    "            else:\n",
    "                total[j]=1\n",
    "            \n",
    "print(total,\"\\n\")\n",
    "print(spam_c)\n",
    "print(ham_c)\n",
    "\n",
    "total_sum=sum(total.values())\n",
    "spam_sum=sum(spam_c.values())\n",
    "ham_sum=sum(ham_c.values())\n",
    "print(total_sum,spam_sum,ham_sum)"
   ]
  },
  {
   "cell_type": "code",
   "execution_count": 50,
   "metadata": {},
   "outputs": [
    {
     "name": "stdout",
     "output_type": "stream",
     "text": [
      "0.4731182795698925 0.5268817204301075 \n",
      "\n"
     ]
    }
   ],
   "source": [
    "p_spam=spam_len/total_len\n",
    "p_ham=ham_len/total_len\n",
    "print(p_spam,p_ham,\"\\n\")"
   ]
  },
  {
   "cell_type": "code",
   "execution_count": 51,
   "metadata": {},
   "outputs": [
    {
     "name": "stdout",
     "output_type": "stream",
     "text": [
      "{'আমরা': 0.035897435897435895, 'ঈদে': 0.01282051282051282, 'বাড়ি': 0.017948717948717947, 'যাবো': 0.010256410256410256, 'না': 0.07435897435897436, 'করিম': 0.01282051282051282, 'যাবে': 0.007692307692307693, 'গান': 0.023076923076923078, 'শুনতে': 0.007692307692307693, 'পছন্দ': 0.038461538461538464, 'করে': 0.02564102564102564, 'আজকে': 0.010256410256410256, 'হারবো': 0.005128205128205128, 'সে': 0.03333333333333333, 'আসবে': 0.007692307692307693, 'স্যার': 0.007692307692307693, 'রোবট': 0.041025641025641026, 'ভালোবাসেন': 0.007692307692307693, 'খারাপ': 0.035897435897435895, 'গায়': 0.01282051282051282, 'কেউ': 0.01282051282051282, 'তাদের': 0.007692307692307693, 'আমি': 0.03333333333333333, 'ভ্রমণ': 0.01282051282051282, 'করি': 0.023076923076923078, '': 0.020512820512820513, 'করা': 0.01282051282051282, 'খুব': 0.03333333333333333, 'ভ্রমণে': 0.010256410256410256, 'যাই': 0.01282051282051282, 'স্কুলে': 0.007692307692307693, 'পড়া': 0.007692307692307693, 'পারে': 0.023076923076923078, 'স্যারের': 0.01282051282051282, 'হাসি': 0.007692307692307693, 'সুন্দর': 0.028205128205128206, 'আমাদের': 0.007692307692307693, 'ডিপার্ট্মেন্ট': 0.01282051282051282, 'স্কুল': 0.007692307692307693, 'যায়': 0.007692307692307693, 'সেদিন': 0.007692307692307693, 'ক্লাস': 0.007692307692307693, 'হয়': 0.005128205128205128, 'নাই': 0.007692307692307693, 'তাকে': 0.007692307692307693, 'তারা': 0.017948717948717947, 'বন্ধু': 0.007692307692307693, 'ছাত্র': 0.007692307692307693, 'খেলায়': 0.01282051282051282, 'নাআমাদের': 0.005128205128205128, 'নিজে': 0.01282051282051282, 'কথা': 0.020512820512820513, 'বলতে': 0.01282051282051282, 'তৈরি': 0.01282051282051282, 'আমাকে': 0.007692307692307693, 'মেরেছে': 0.005128205128205128, 'ক্লাসে': 0.007692307692307693, 'বাংলাদেশ': 0.010256410256410256, 'দেশকে': 0.007692307692307693, 'ভালোবাসি': 0.007692307692307693, 'ছবি': 0.01282051282051282, 'দেখতে': 0.017948717948717947, 'সবাই': 0.023076923076923078, 'দেখি': 0.007692307692307693, 'দেশ': 0.01282051282051282, 'সকল': 0.007692307692307693, 'মায়ের': 0.007692307692307693, 'সমান': 0.007692307692307693, 'কাউকে': 0.005128205128205128, 'সম্মান': 0.007692307692307693, 'করবো': 0.007692307692307693, 'যাব': 0.005128205128205128, 'পাখি': 0.02564102564102564, 'ছবিটি': 0.007692307692307693, 'অনেক': 0.007692307692307693, 'পারবো': 0.007692307692307693, 'করতেপাখি': 0.005128205128205128, 'বলে': 0.010256410256410256, 'আকাশে': 0.007692307692307693, 'উড়তে': 0.007692307692307693, 'পাখির': 0.007692307692307693, 'বাচ্চা': 0.007692307692307693, 'আনন্দের': 0.005128205128205128, 'জানে': 0.005128205128205128, 'ভালো': 0.02564102564102564, 'আছি': 0.005128205128205128, 'যাচ্ছি': 0.005128205128205128, 'সেখানে': 0.005128205128205128, 'শিক্ষক': 0.005128205128205128, 'যাইআমাদের': 0.005128205128205128, 'আজ': 0.005128205128205128, 'জিতব': 0.005128205128205128, 'করতেরোবট': 0.005128205128205128, 'সহজ': 0.005128205128205128, 'হয়েছে': 0.005128205128205128, 'আছে': 0.005128205128205128, 'সকলের': 0.005128205128205128, 'মা': 0.005128205128205128, 'কে': 0.005128205128205128} \n",
      "\n"
     ]
    }
   ],
   "source": [
    "total_probability={}\n",
    "spam_probability={}\n",
    "ham_probability={}\n",
    "\n",
    "for i,j in total.items():\n",
    "    total_probability[i]=(j+1)/(total_sum+2)\n",
    "\n",
    "print(total_probability,\"\\n\")\n"
   ]
  },
  {
   "cell_type": "code",
   "execution_count": 52,
   "metadata": {},
   "outputs": [
    {
     "name": "stdout",
     "output_type": "stream",
     "text": [
      "{'আমরা': 0.03902439024390244, 'ঈদে': 0.014634146341463415, 'বাড়ি': 0.01951219512195122, 'যাবো': 0.00975609756097561, 'না': 0.14146341463414633, 'করিম': 0.014634146341463415, 'যাবে': 0.00975609756097561, 'গান': 0.024390243902439025, 'শুনতে': 0.00975609756097561, 'পছন্দ': 0.03902439024390244, 'করে': 0.024390243902439025, 'আজকে': 0.014634146341463415, 'হারবো': 0.00975609756097561, 'সে': 0.03414634146341464, 'আসবে': 0.00975609756097561, 'স্যার': 0.00975609756097561, 'রোবট': 0.03902439024390244, 'ভালোবাসেন': 0.00975609756097561, 'খারাপ': 0.06829268292682927, 'গায়': 0.014634146341463415, 'কেউ': 0.024390243902439025, 'তাদের': 0.00975609756097561, 'আমি': 0.02926829268292683, 'ভ্রমণ': 0.014634146341463415, 'করি': 0.024390243902439025, '': 0.02926829268292683, 'করা': 0.014634146341463415, 'খুব': 0.024390243902439025, 'ভ্রমণে': 0.014634146341463415, 'যাই': 0.01951219512195122, 'স্কুলে': 0.00975609756097561, 'পড়া': 0.00975609756097561, 'পারে': 0.024390243902439025, 'স্যারের': 0.014634146341463415, 'হাসি': 0.00975609756097561, 'সুন্দর': 0.024390243902439025, 'আমাদের': 0.00975609756097561, 'ডিপার্ট্মেন্ট': 0.014634146341463415, 'স্কুল': 0.00975609756097561, 'যায়': 0.00975609756097561, 'সেদিন': 0.00975609756097561, 'ক্লাস': 0.00975609756097561, 'হয়': 0.00975609756097561, 'নাই': 0.014634146341463415, 'তাকে': 0.00975609756097561, 'তারা': 0.01951219512195122, 'বন্ধু': 0.00975609756097561, 'ছাত্র': 0.00975609756097561, 'খেলায়': 0.014634146341463415, 'নাআমাদের': 0.00975609756097561, 'নিজে': 0.014634146341463415, 'কথা': 0.01951219512195122, 'বলতে': 0.014634146341463415, 'তৈরি': 0.014634146341463415, 'আমাকে': 0.00975609756097561, 'মেরেছে': 0.00975609756097561, 'ক্লাসে': 0.00975609756097561, 'বাংলাদেশ': 0.00975609756097561, 'দেশকে': 0.00975609756097561, 'ভালোবাসি': 0.00975609756097561, 'ছবি': 0.014634146341463415, 'দেখতে': 0.01951219512195122, 'সবাই': 0.014634146341463415, 'দেখি': 0.00975609756097561, 'দেশ': 0.014634146341463415, 'সকল': 0.00975609756097561, 'মায়ের': 0.00975609756097561, 'সমান': 0.00975609756097561, 'কাউকে': 0.00975609756097561, 'সম্মান': 0.00975609756097561, 'করবো': 0.00975609756097561, 'যাব': 0.00975609756097561, 'পাখি': 0.024390243902439025, 'ছবিটি': 0.00975609756097561, 'অনেক': 0.00975609756097561, 'পারবো': 0.00975609756097561, 'করতেপাখি': 0.00975609756097561, 'বলে': 0.00975609756097561, 'আকাশে': 0.00975609756097561, 'উড়তে': 0.00975609756097561, 'পাখির': 0.00975609756097561, 'বাচ্চা': 0.00975609756097561} \n",
      "\n"
     ]
    }
   ],
   "source": [
    "for i,j in spam_c.items():\n",
    "    spam_probability[i]=(j+1)/(spam_sum+2)\n",
    "\n",
    "print(spam_probability,\"\\n\")"
   ]
  },
  {
   "cell_type": "code",
   "execution_count": 53,
   "metadata": {},
   "outputs": [
    {
     "name": "stdout",
     "output_type": "stream",
     "text": [
      "{'আমি': 0.0427807486631016, 'ভ্রমণ': 0.016042780748663103, 'পছন্দ': 0.0427807486631016, 'করি': 0.026737967914438502, 'করা': 0.016042780748663103, 'খুব': 0.0481283422459893, 'আনন্দের': 0.0106951871657754, 'আমরা': 0.0374331550802139, 'সবাই': 0.0374331550802139, 'ভ্রমণে': 0.0106951871657754, 'যাই': 0.0106951871657754, 'তাকে': 0.0106951871657754, 'সে': 0.0374331550802139, 'আমাকে': 0.0106951871657754, 'জানে': 0.0106951871657754, 'ভালো': 0.053475935828877004, 'করে': 0.03208556149732621, 'পাখি': 0.03208556149732621, 'গান': 0.026737967914438502, 'গায়': 0.016042780748663103, 'কথা': 0.026737967914438502, 'বলে': 0.016042780748663103, 'আকাশে': 0.0106951871657754, 'উড়তে': 0.0106951871657754, 'পারে': 0.026737967914438502, 'পাখির': 0.0106951871657754, 'বাচ্চা': 0.0106951871657754, 'দেখতে': 0.0213903743315508, 'সুন্দর': 0.0374331550802139, 'স্যারের': 0.016042780748663103, 'রোবট': 0.0481283422459893, 'বলতে': 0.016042780748663103, 'তারা': 0.0213903743315508, 'ছবি': 0.016042780748663103, 'দেখি': 0.0106951871657754, 'ছবিটি': 0.0106951871657754, 'অনেক': 0.0106951871657754, 'হাসি': 0.0106951871657754, 'আমাদের': 0.0106951871657754, 'ডিপার্ট্মেন্ট': 0.016042780748663103, 'স্কুল': 0.0106951871657754, 'যায়': 0.0106951871657754, 'বন্ধু': 0.0106951871657754, 'ছাত্র': 0.0106951871657754, 'স্যার': 0.0106951871657754, 'ভালোবাসেন': 0.0106951871657754, 'আছি': 0.0106951871657754, 'যাচ্ছি': 0.0106951871657754, 'সেখানে': 0.0106951871657754, 'সকল': 0.0106951871657754, 'শিক্ষক': 0.0106951871657754, 'স্কুলে': 0.0106951871657754, 'পড়া': 0.0106951871657754, 'তাদের': 0.0106951871657754, 'খেলায়': 0.016042780748663103, 'যাইআমাদের': 0.0106951871657754, 'করিম': 0.016042780748663103, 'শুনতে': 0.0106951871657754, 'আজ': 0.0106951871657754, 'জিতব': 0.0106951871657754, '': 0.016042780748663103, 'আজকে': 0.0106951871657754, 'আসবে': 0.0106951871657754, 'পারবো': 0.0106951871657754, 'তৈরি': 0.016042780748663103, 'করতেরোবট': 0.0106951871657754, 'নিজে': 0.016042780748663103, 'সহজ': 0.0106951871657754, 'সেদিন': 0.0106951871657754, 'ক্লাস': 0.0106951871657754, 'হয়েছে': 0.0106951871657754, 'ক্লাসে': 0.0106951871657754, 'আছে': 0.0106951871657754, 'বাংলাদেশ': 0.016042780748663103, 'দেশকে': 0.0106951871657754, 'ভালোবাসি': 0.0106951871657754, 'দেশ': 0.016042780748663103, 'সকলের': 0.0106951871657754, 'মা': 0.0106951871657754, 'মায়ের': 0.0106951871657754, 'সমান': 0.0106951871657754, 'কে': 0.0106951871657754, 'সম্মান': 0.0106951871657754, 'করবো': 0.0106951871657754, 'ঈদে': 0.016042780748663103, 'বাড়ি': 0.0213903743315508, 'যাবো': 0.016042780748663103, 'যাবে': 0.0106951871657754} \n",
      "\n"
     ]
    }
   ],
   "source": [
    "for i,j in ham_c.items():\n",
    "    ham_probability[i]=(j+1)/(ham_sum+2)\n",
    "\n",
    "print(ham_probability,\"\\n\")"
   ]
  },
  {
   "cell_type": "code",
   "execution_count": 54,
   "metadata": {},
   "outputs": [],
   "source": [
    "Q='সে ভাল রোবট না'"
   ]
  },
  {
   "cell_type": "code",
   "execution_count": 55,
   "metadata": {},
   "outputs": [
    {
     "name": "stdout",
     "output_type": "stream",
     "text": [
      "spam->  1.668543002021574 \n",
      "\n"
     ]
    }
   ],
   "source": [
    "spam_p_up=1\n",
    "spam_p_down=1\n",
    "for i in Q.split(' '):\n",
    "    if i in spam_probability:\n",
    "        spam_p_up*=spam_probability[i]\n",
    "        spam_p_down*=total_probability[i]\n",
    "    else:\n",
    "        spam_p_up*=(1/(spam_sum+2));\n",
    "        spam_p_down*=(1/(total_sum+2));\n",
    "spam_p_up*=p_spam\n",
    "spam_p_ans=spam_p_up/spam_p_down;\n",
    "print(\"spam-> \",spam_p_ans,\"\\n\")"
   ]
  },
  {
   "cell_type": "code",
   "execution_count": 56,
   "metadata": {},
   "outputs": [
    {
     "name": "stdout",
     "output_type": "stream",
     "text": [
      "ham->  3.019133714468988 \n",
      "\n"
     ]
    }
   ],
   "source": [
    "\n",
    "\n",
    "ham_p_up=1\n",
    "ham_p_down=1\n",
    "for i in Q.split(' '):\n",
    "    if i in ham_probability:\n",
    "        ham_p_up*=ham_probability[i]\n",
    "        ham_p_down*=total_probability[i]\n",
    "    else:\n",
    "        ham_p_up*=(1/(ham_sum+2));\n",
    "        ham_p_down*=(1/(total_sum+2));\n",
    "ham_p_up*=p_ham\n",
    "ham_p_ans=ham_p_up/ham_p_down;\n",
    "print(\"ham-> \",ham_p_ans,\"\\n\")\n"
   ]
  },
  {
   "cell_type": "code",
   "execution_count": 57,
   "metadata": {},
   "outputs": [
    {
     "name": "stdout",
     "output_type": "stream",
     "text": [
      "35.594242157354486 % \n",
      "\n",
      "64.40575784264551 % \n",
      "\n"
     ]
    }
   ],
   "source": [
    "sp=((spam_p_ans/(ham_p_ans+spam_p_ans))*100);\n",
    "hm=((ham_p_ans/(ham_p_ans+spam_p_ans))*100);\n",
    "print(sp,\"%\",\"\\n\")\n",
    "print(hm,\"%\",\"\\n\")"
   ]
  },
  {
   "cell_type": "code",
   "execution_count": 58,
   "metadata": {},
   "outputs": [
    {
     "name": "stdout",
     "output_type": "stream",
     "text": [
      "this sentence is Ham : 64 % \n",
      "\n"
     ]
    }
   ],
   "source": [
    "if(sp>=hm):\n",
    "    print(\"this sentence is Spam : \",end=\"\")\n",
    "    print(round(sp),\"%\",\"\\n\")\n",
    "elif(hm>sp):\n",
    "    print(\"this sentence is Ham : \",end=\"\")\n",
    "    print(round(hm),\"%\",\"\\n\")"
   ]
  },
  {
   "cell_type": "code",
   "execution_count": null,
   "metadata": {},
   "outputs": [],
   "source": [
    ".........................................\n",
    "\n",
    "Perceptron\n",
    "\n",
    "........................................."
   ]
  },
  {
   "cell_type": "code",
   "execution_count": 59,
   "metadata": {},
   "outputs": [
    {
     "name": "stdout",
     "output_type": "stream",
     "text": [
      "14\n",
      "14\n"
     ]
    }
   ],
   "source": [
    "import numpy as np\n",
    "import matplotlib.pyplot as plt\n",
    "x=[\n",
    "   [1,8,7],\n",
    "   [1,4,10],\n",
    "   [1,9,7],\n",
    "   [1,7,10],\n",
    "   [1,9,6],\n",
    "   [1,4,8],\n",
    "   [1,10,10],\n",
    "   [1,2,7],\n",
    "   [1,8,3],\n",
    "   [1,7,5],\n",
    "   [1,4,4],\n",
    "   [1,4,6],\n",
    "   [1,1,3],\n",
    "   [1,2,5]\n",
    "  ]\n",
    "print(len(x))\n",
    "y=[1.0,1.0,1.0,1.0,1.0,1.0,1.0,-1.0,-1.0,-1.0,-1.0,-1.0,-1.0,-1.0]\n",
    "print(len(y))\n",
    "x=np.array(x)\n",
    "y=np.array(y)"
   ]
  },
  {
   "cell_type": "code",
   "execution_count": 60,
   "metadata": {},
   "outputs": [],
   "source": [
    "def linear_regression(k,h):\n",
    "    val=0\n",
    "    for i,j in zip(k,h):  \n",
    "        val=val+(i*j)\n",
    "    return val\n",
    "\n",
    "def activate(val):\n",
    "    return np.sign(val)\n",
    "\n",
    "\n",
    "def predict(x,w):\n",
    "    hp=[]\n",
    "    for i in x: \n",
    "        lr=linear_regression(i,w)\n",
    "        h=activate(lr)\n",
    "        hp.append(h)\n",
    "    return hp"
   ]
  },
  {
   "cell_type": "code",
   "execution_count": 61,
   "metadata": {},
   "outputs": [],
   "source": [
    "def miss_class(py, y):\n",
    "    miss=[]\n",
    "    for i in range(len(y)):\n",
    "        if py[i]!=y[i]:\n",
    "            miss.append(i)\n",
    "    return miss"
   ]
  },
  {
   "cell_type": "code",
   "execution_count": 62,
   "metadata": {},
   "outputs": [],
   "source": [
    "def perceptron(x, y):\n",
    "    w = np.random.rand(3)\n",
    "    p_value=predict(x,w)     \n",
    "    miss=miss_class(p_value,y)\n",
    "    while len(miss)>0:\n",
    "        rnd=np.random.choice(miss)\n",
    "        rx=x[rnd]\n",
    "        ry=y[rnd]\n",
    "        w=w+(rx*ry)\n",
    "        p_value=predict(x,w)\n",
    "        miss=miss_class(p_value,y)\n",
    "    return w"
   ]
  },
  {
   "cell_type": "code",
   "execution_count": 63,
   "metadata": {},
   "outputs": [
    {
     "name": "stdout",
     "output_type": "stream",
     "text": [
      "[-61.50442804   3.16165831   7.60146961]\n"
     ]
    }
   ],
   "source": [
    "w=perceptron(x,y)\n",
    "w=np.array(w)\n",
    "print(w)"
   ]
  },
  {
   "cell_type": "code",
   "execution_count": 64,
   "metadata": {},
   "outputs": [
    {
     "name": "stdout",
     "output_type": "stream",
     "text": [
      "[1.0, 1.0, 1.0, 1.0, 1.0, 1.0, 1.0, -1.0, -1.0, -1.0, -1.0, -1.0, -1.0, -1.0]\n"
     ]
    }
   ],
   "source": [
    "pp=predict(x,w)\n",
    "print(pp)"
   ]
  },
  {
   "cell_type": "code",
   "execution_count": 65,
   "metadata": {},
   "outputs": [],
   "source": [
    "def accuracy(y,new_y):\n",
    "        count=0\n",
    "        for i,j in zip(y,new_y):\n",
    "                if(i==j):\n",
    "                    count+=1\n",
    "        if(len(y)!=0):\n",
    "            #print('old_y :',y)\n",
    "            count=count/len(y)\n",
    "            print('accuracy=  ',count*100,'%')"
   ]
  },
  {
   "cell_type": "code",
   "execution_count": 66,
   "metadata": {},
   "outputs": [
    {
     "name": "stdout",
     "output_type": "stream",
     "text": [
      "accuracy=   100.0 %\n"
     ]
    }
   ],
   "source": [
    "accuracy(y,pp)"
   ]
  },
  {
   "cell_type": "code",
   "execution_count": null,
   "metadata": {},
   "outputs": [],
   "source": [
    ".........................................\n",
    "\n",
    "K Means Clustering\n",
    "\n",
    "........................................."
   ]
  },
  {
   "cell_type": "code",
   "execution_count": 132,
   "metadata": {},
   "outputs": [],
   "source": [
    "import numpy as np\n",
    "import matplotlib.pyplot as plt"
   ]
  },
  {
   "cell_type": "code",
   "execution_count": 133,
   "metadata": {},
   "outputs": [],
   "source": [
    "x = [\n",
    "    [12,39],\n",
    "    [20,36],\n",
    "    [28,30],\n",
    "    [18,52],\n",
    "    [29,54],\n",
    "    [33,46],\n",
    "    [24,55],\n",
    "    [45,59],\n",
    "    [45,63],\n",
    "    [52,70],\n",
    "    [51,66],\n",
    "    [52,63],\n",
    "    [55,58],\n",
    "    [53,23],\n",
    "    [55,14],\n",
    "    [61,8],\n",
    "    [64,19],\n",
    "    [69,7],\n",
    "    [72,24],\n",
    "]\n",
    "X = np.array(x)"
   ]
  },
  {
   "cell_type": "code",
   "execution_count": 134,
   "metadata": {},
   "outputs": [],
   "source": [
    "def get_random_centroids(k):\n",
    "    centroids={}\n",
    "    while True:\n",
    "        ri=np.random.choice(range(len(X)), k)\n",
    "        print(ri)\n",
    "        if len(set(ri))==k:  #found distinct k indexes.\n",
    "            for i in range(k):\n",
    "                centroids[i]=X[ri[i]]\n",
    "            break\n",
    "\n",
    "    return centroids"
   ]
  },
  {
   "cell_type": "code",
   "execution_count": 135,
   "metadata": {},
   "outputs": [
    {
     "name": "stdout",
     "output_type": "stream",
     "text": [
      "[12  7 18]\n",
      "{0: array([55, 58]), 1: array([45, 59]), 2: array([72, 24])}\n"
     ]
    }
   ],
   "source": [
    "k = 3\n",
    "centroids=get_random_centroids(k)\n",
    "print(centroids)\n",
    "c1=centroids[0]\n",
    "c2=centroids[1]\n",
    "c3=centroids[2]"
   ]
  },
  {
   "cell_type": "code",
   "execution_count": 136,
   "metadata": {},
   "outputs": [],
   "source": [
    "def euclidianDistance(arr,c):\n",
    "    return np.sqrt( ((arr[0]-c[0])*(arr[0]-c[0]))+((arr[1]-c[1])*(arr[1]-c[1])) )"
   ]
  },
  {
   "cell_type": "code",
   "execution_count": 137,
   "metadata": {},
   "outputs": [],
   "source": [
    "def grouping(X):\n",
    "    g1 = []\n",
    "    g2 = []\n",
    "    g3 = []\n",
    "    sz = len(X)\n",
    "    #print(sz)\n",
    "    for i in range(sz):\n",
    "        data = X[i]\n",
    "        mn1 = euclidianDistance(data,c1)\n",
    "        mn2 = euclidianDistance(data,c2)\n",
    "        mn3 = euclidianDistance(data,c3)\n",
    "        if mn1<mn2 and mn1<mn3:\n",
    "            g1.append(data)\n",
    "        elif mn2<mn1 and mn2<mn3:\n",
    "            g2.append(data)\n",
    "        else:\n",
    "            g3.append(data)\n",
    "    return g1,g2,g3"
   ]
  },
  {
   "cell_type": "code",
   "execution_count": 138,
   "metadata": {},
   "outputs": [],
   "source": [
    "def average(grp):\n",
    "    #GRP = np.array(grp)\n",
    "    sz = len(grp)\n",
    "    left=0\n",
    "    right=0\n",
    "    #print(sz)\n",
    "    for i in range(sz):\n",
    "        t = grp[i] \n",
    "        left+=t[0]\n",
    "        right+=t[1]\n",
    "    c = [left/sz,right/sz]\n",
    "    return c"
   ]
  },
  {
   "cell_type": "code",
   "execution_count": 139,
   "metadata": {},
   "outputs": [
    {
     "name": "stdout",
     "output_type": "stream",
     "text": [
      "[50.0, 63.166666666666664]\n",
      "[23.428571428571427, 44.57142857142857]\n",
      "[62.333333333333336, 15.833333333333334]\n"
     ]
    }
   ],
   "source": [
    "while(1):\n",
    "    g1,g2,g3 = grouping(x)\n",
    "    c1 = average(g1)\n",
    "    c2 = average(g2)\n",
    "    c3 = average(g3)\n",
    "    \n",
    "    g1,g2,g3 = grouping(x)\n",
    "    c11 = average(g1)\n",
    "    c22 = average(g2)\n",
    "    c33 = average(g3)\n",
    "    \n",
    "    if c1==c11 and c2==c22 and c3==c33:\n",
    "        break\n",
    "print(c1)\n",
    "print(c2)\n",
    "print(c3)"
   ]
  },
  {
   "cell_type": "code",
   "execution_count": 140,
   "metadata": {},
   "outputs": [
    {
     "data": {
      "image/png": "[encoded data removed]",
      "text/plain": [
       "<Figure size 432x288 with 1 Axes>"
      ]
     },
     "metadata": {
      "needs_background": "light"
     },
     "output_type": "display_data"
    }
   ],
   "source": [
    "plt.scatter(X[:,0],X[:,1],marker='o' )\n",
    "colmap = {0: 'r', 1: 'g', 2: 'y', 3:'b'}\n",
    "plt.scatter(c1[0], c1[1], color=colmap[0])\n",
    "plt.scatter(c2[0], c2[1], color=colmap[1])\n",
    "plt.scatter(c3[0], c3[1], color=colmap[2])\n",
    "plt.show()"
   ]
  },
  {
   "cell_type": "code",
   "execution_count": null,
   "metadata": {},
   "outputs": [],
   "source": [
    ".........................................\n",
    "\n",
    "Binary Logistic Regression\n",
    "\n",
    "........................................."
   ]
  },
  {
   "cell_type": "code",
   "execution_count": 149,
   "metadata": {},
   "outputs": [
    {
     "name": "stdout",
     "output_type": "stream",
     "text": [
      "[[1, 8, 7], [1, 2, 5], [1, 3, 10], [1, 4, 4], [1, 5, 5], [1, 9, 7]]\n",
      "[0, 0, 0, 1, 1, 1]\n"
     ]
    }
   ],
   "source": [
    "import numpy as np\n",
    "from math import *\n",
    "import matplotlib.pyplot as plt\n",
    "\n",
    "x=[[1,8,7],[1,2,5],[1,3,10],[1,4,4],[1,5,5],[1,9,7]]\n",
    "y=[0, 0, 0, 1, 1, 1]\n",
    "theta=[-1,7,-4]\n",
    "\n",
    "print(x)\n",
    "print(y)"
   ]
  },
  {
   "cell_type": "code",
   "execution_count": 150,
   "metadata": {},
   "outputs": [
    {
     "name": "stdout",
     "output_type": "stream",
     "text": [
      "[ 27  -7 -20  11  14  34]\n"
     ]
    }
   ],
   "source": [
    "def dot_product(a,b):\n",
    "    test_list=np.dot(a,b)\n",
    "    return test_list\n",
    "\n",
    "dot_p=dot_product(x,theta)\n",
    "print(dot_p)"
   ]
  },
  {
   "cell_type": "code",
   "execution_count": 151,
   "metadata": {},
   "outputs": [
    {
     "name": "stdout",
     "output_type": "stream",
     "text": [
      "[0.9999999999981204, 0.0009110511944006454, 2.0611536181902037e-09, 0.999983298578152, 0.9999991684719722, 0.9999999999999982]\n"
     ]
    }
   ],
   "source": [
    "def hypothesis_fun(dot_p):\n",
    "    test_list=[]\n",
    "    for i in dot_p:\n",
    "        variable=(1/(1+np.exp(-i)))\n",
    "        test_list.append(variable)\n",
    "    return test_list;\n",
    "\n",
    "hypothesis_list=hypothesis_fun(dot_p);\n",
    "print(hypothesis_list)"
   ]
  },
  {
   "cell_type": "code",
   "execution_count": 152,
   "metadata": {},
   "outputs": [
    {
     "name": "stdout",
     "output_type": "stream",
     "text": [
      "[0.16681558671729954, 1.3336251908716135, 1.16741405220714]\n"
     ]
    }
   ],
   "source": [
    "def update_theta_fun(x,y,hypothesis_list):\n",
    "    v1=v2=v3=0\n",
    "    d=[]\n",
    "    for i,j,k in zip(x,y,hypothesis_list):\n",
    "        v1+=(i[0]*(j-k))\n",
    "        v2+=(i[1]*(j-k))\n",
    "        v3+=(i[2]*(j-k))\n",
    "    d0=-1*(v1/len(x))\n",
    "    d1=-1*(v2/len(x))\n",
    "    d2=-1*(v3/len(x))\n",
    "    d.append(d0)\n",
    "    d.append(d1)\n",
    "    d.append(d2)\n",
    "    return d;\n",
    "update_theta=update_theta_fun(x,y,hypothesis_list);\n",
    "print(update_theta)"
   ]
  },
  {
   "cell_type": "code",
   "execution_count": 153,
   "metadata": {},
   "outputs": [
    {
     "name": "stdout",
     "output_type": "stream",
     "text": [
      "[10.958810465617592, 2.02826402257509, -3.9639914807469627]\n"
     ]
    }
   ],
   "source": [
    "def learning_fun(x):\n",
    "    theta=[0,0,0]\n",
    "    learning_value =0.1\n",
    "    for i in range(0,5000):\n",
    "        new_dot_p=dot_product(x,theta)\n",
    "        new_hypothesis_list=hypothesis_fun(new_dot_p)\n",
    "        new_theta=update_theta_fun(x,y,new_hypothesis_list)\n",
    "        theta[0]=theta[0]-(new_theta[0]*learning_value)\n",
    "        theta[1]=theta[1]-(new_theta[1]*learning_value)\n",
    "        theta[2]=theta[2]-(new_theta[2]*learning_value)\n",
    "    return theta;\n",
    "learning_theta=learning_fun(x)\n",
    "print(learning_theta)"
   ]
  },
  {
   "cell_type": "code",
   "execution_count": 154,
   "metadata": {},
   "outputs": [],
   "source": [
    "def check_y(y1):\n",
    "    if(y1>=0.5):\n",
    "        print(1)\n",
    "    else:\n",
    "        print(0)"
   ]
  },
  {
   "cell_type": "code",
   "execution_count": 155,
   "metadata": {},
   "outputs": [],
   "source": [
    "def accuracy_y(x,learning_theta):\n",
    "    final_dot_p=dot_product(x,learning_theta)\n",
    "    final_hypothesis_list=hypothesis_fun(final_dot_p)\n",
    "    for i in final_hypothesis_list:\n",
    "            check_y(i)"
   ]
  },
  {
   "cell_type": "code",
   "execution_count": 156,
   "metadata": {},
   "outputs": [
    {
     "name": "stdout",
     "output_type": "stream",
     "text": [
      "1\n"
     ]
    }
   ],
   "source": [
    "x=[[1,3,3]];\n",
    "final_dot_p=dot_product(x,learning_theta)\n",
    "final_hypothesis_list=hypothesis_fun(final_dot_p)\n",
    "for i in final_hypothesis_list:\n",
    "         check_y(i)\n"
   ]
  },
  {
   "cell_type": "code",
   "execution_count": 168,
   "metadata": {},
   "outputs": [],
   "source": [
    ".........................................\n",
    "\n",
    "PCA-with-Toy-Data\n",
    "\n",
    "........................................."
   ]
  },
  {
   "cell_type": "code",
   "execution_count": 158,
   "metadata": {},
   "outputs": [],
   "source": [
    "import numpy as np\n",
    "import matplotlib.pyplot as plt"
   ]
  },
  {
   "cell_type": "code",
   "execution_count": 159,
   "metadata": {},
   "outputs": [],
   "source": [
    "x=np.array([[14,5],[16,5],[6,0],[10,1],[8,2],[15,6],[15,7],[8,2],[8,1],[15,4]])"
   ]
  },
  {
   "cell_type": "code",
   "execution_count": 160,
   "metadata": {},
   "outputs": [
    {
     "name": "stdout",
     "output_type": "stream",
     "text": [
      "[[ 2.5  1.7]\n",
      " [ 4.5  1.7]\n",
      " [-5.5 -3.3]\n",
      " [-1.5 -2.3]\n",
      " [-3.5 -1.3]\n",
      " [ 3.5  2.7]\n",
      " [ 3.5  3.7]\n",
      " [-3.5 -1.3]\n",
      " [-3.5 -2.3]\n",
      " [ 3.5  0.7]]\n"
     ]
    }
   ],
   "source": [
    "x_avg=x.mean(axis=0)\n",
    "new_x=x-x_avg\n",
    "print(new_x)"
   ]
  },
  {
   "cell_type": "code",
   "execution_count": 161,
   "metadata": {},
   "outputs": [
    {
     "name": "stdout",
     "output_type": "stream",
     "text": [
      "[[14.72222222  8.38888889]\n",
      " [ 8.38888889  5.78888889]]\n"
     ]
    }
   ],
   "source": [
    "covM=np.dot(new_x.T,new_x)\n",
    "covM=covM/(len(new_x)-1)\n",
    "print(covM)"
   ]
  },
  {
   "cell_type": "code",
   "execution_count": 162,
   "metadata": {},
   "outputs": [
    {
     "name": "stdout",
     "output_type": "stream",
     "text": [
      "[ 0.75163174 19.75947937]\n",
      "[[ 0.51479058 -0.85731596]\n",
      " [-0.85731596 -0.51479058]]\n"
     ]
    }
   ],
   "source": [
    "ev,EV=np.linalg.eigh(covM)\n",
    "print(ev)\n",
    "print(EV)"
   ]
  },
  {
   "cell_type": "code",
   "execution_count": 163,
   "metadata": {},
   "outputs": [
    {
     "name": "stdout",
     "output_type": "stream",
     "text": [
      "[19.75947937  0.75163174]\n",
      "[[-0.85731596 -0.51479058]\n",
      " [ 0.51479058 -0.85731596]]\n"
     ]
    }
   ],
   "source": [
    "rev_ev=ev[::-1]\n",
    "rev_EV=EV[::-1]\n",
    "print(rev_ev)\n",
    "print(rev_EV)"
   ]
  },
  {
   "cell_type": "code",
   "execution_count": 164,
   "metadata": {},
   "outputs": [
    {
     "name": "stdout",
     "output_type": "stream",
     "text": [
      "96.335489894056 3.6645101059440126\n"
     ]
    }
   ],
   "source": [
    "first=(rev_ev[0]/(rev_ev[0]+rev_ev[1]))*100\n",
    "second=(rev_ev[1]/(rev_ev[0]+rev_ev[1]))*100\n",
    "\n",
    "print(first,second)"
   ]
  },
  {
   "cell_type": "code",
   "execution_count": 165,
   "metadata": {},
   "outputs": [
    {
     "name": "stdout",
     "output_type": "stream",
     "text": [
      "[[-3.01843389e+00 -1.70460691e-01]\n",
      " [-4.73306582e+00  8.59120466e-01]\n",
      " [ 6.41404671e+00 -2.20550373e-03]\n",
      " [ 2.46999227e+00  1.19964085e+00]\n",
      " [ 3.66983362e+00 -6.87256273e-01]\n",
      " [-4.39054043e+00 -5.12986075e-01]\n",
      " [-4.90533101e+00 -1.37030204e+00]\n",
      " [ 3.66983362e+00 -6.87256273e-01]\n",
      " [ 4.18462420e+00  1.70059690e-01]\n",
      " [-3.36095928e+00  1.20164585e+00]]\n"
     ]
    }
   ],
   "source": [
    "pc=[]\n",
    "for i in new_x:\n",
    "    pc1=np.dot(rev_EV[0], i)\n",
    "    pc2=np.dot(rev_EV[1], i)\n",
    "    pc.append([pc1,pc2])\n",
    "pc=np.array(pc)\n",
    "print(pc)"
   ]
  },
  {
   "cell_type": "code",
   "execution_count": 166,
   "metadata": {},
   "outputs": [
    {
     "name": "stdout",
     "output_type": "stream",
     "text": [
      "[array([14.08775156,  4.85386133]), array([15.55773288,  5.73653769]), array([ 6.00113537e+00, -1.89081355e-03]), array([9.38243619, 2.02847125]), array([8.35379305, 1.41080423]), array([15.2640804 ,  5.56020885]), array([15.70541858,  5.82521819]), array([8.35379305, 1.41080423]), array([7.91245487, 1.14579489]), array([14.38140404,  5.03019017])]\n"
     ]
    }
   ],
   "source": [
    "real_ar=[]\n",
    "for i in range(0,len(pc)):\n",
    "    a=pc[i][0]*rev_EV[0]\n",
    "    #b=pc[i][1]*rev_EV[1]\n",
    "    \n",
    "    recon=x_avg+a\n",
    "    #recon=recon+b\n",
    "    real_ar.append(recon)\n",
    "    \n",
    "print(real_ar)"
   ]
  },
  {
   "cell_type": "code",
   "execution_count": null,
   "metadata": {},
   "outputs": [],
   "source": [
    ".........................................\n",
    "\n",
    "confussion Matrix\n",
    "\n",
    "........................................."
   ]
  },
  {
   "cell_type": "code",
   "execution_count": 171,
   "metadata": {},
   "outputs": [
    {
     "name": "stdout",
     "output_type": "stream",
     "text": [
      "57.14285714285714  %\n",
      "66.66666666666666  %\n",
      "50.0  %\n",
      "66.66666666666666  %\n",
      "33.333333333333336  %\n"
     ]
    }
   ],
   "source": [
    "\n",
    "y=[1,1,-1,-1,1,1,-1];\n",
    "p=[1,1,-1,1,-1,-1,-1];\n",
    "\n",
    "def accuracy(a,b):\n",
    "    temp=0;\n",
    "    for i,j in zip(a,b):\n",
    "        if (i==j):\n",
    "            temp+=1;\n",
    "    ans=temp/len(a);\n",
    "    print(ans*100,\" %\");\n",
    "    \n",
    "def precission(a,b):\n",
    "    temp=0;\n",
    "    temp2=0;\n",
    "    for i,j in zip(a,b):\n",
    "        if (i==1 and j==1):\n",
    "            temp+=1;\n",
    "        if(i!=1 and j==1):\n",
    "            temp2+=1\n",
    "    ans=temp/(temp+temp2);\n",
    "    print(ans*100,\" %\");\n",
    "    \n",
    "def recall_TPR(a,b):\n",
    "    temp=0;\n",
    "    temp2=0;\n",
    "    for i,j in zip(a,b):\n",
    "        if (i==1 and j==1):\n",
    "            temp+=1; \n",
    "        if(i==1 and j!=1):\n",
    "            temp2+=1\n",
    "    ans=temp/(temp+temp2);\n",
    "    print(ans*100,\" %\");\n",
    "\n",
    "def specificity(a,b):\n",
    "    temp=0;\n",
    "    temp2=0;\n",
    "    for i,j in zip(a,b):\n",
    "        if (i!=1 and j!=1):\n",
    "            temp+=1; \n",
    "        if(i!=1 and j==1):\n",
    "            temp2+=1\n",
    "    ans=temp/(temp+temp2);\n",
    "    print(ans*100,\" %\");\n",
    "\n",
    "def FPR(a,b):\n",
    "    temp=0;\n",
    "    temp2=0;\n",
    "    for i,j in zip(a,b):\n",
    "        if (i!=1 and j!=1):\n",
    "            temp+=1; \n",
    "        if(i!=1 and j==1):\n",
    "            temp2+=1\n",
    "    ans=1-(temp/(temp+temp2));\n",
    "    print(ans*100,\" %\");\n",
    "        \n",
    "\n",
    "    \n",
    "accuracy(y,p);\n",
    "precission(y,p);\n",
    "recall_TPR(y,p);\n",
    "specificity(y,p);\n",
    "FPR(y,p);"
   ]
  },
  {
   "cell_type": "code",
   "execution_count": null,
   "metadata": {},
   "outputs": [],
   "source": []
  }
 ],
 "metadata": {
  "kernelspec": {
   "display_name": "Python 3",
   "language": "python",
   "name": "python3"
  },
  "language_info": {
   "codemirror_mode": {
    "name": "ipython",
    "version": 3
   },
   "file_extension": ".py",
   "mimetype": "text/x-python",
   "name": "python",
   "nbconvert_exporter": "python",
   "pygments_lexer": "ipython3",
   "version": "3.7.3"
  }
 },
 "nbformat": 4,
 "nbformat_minor": 2
}
