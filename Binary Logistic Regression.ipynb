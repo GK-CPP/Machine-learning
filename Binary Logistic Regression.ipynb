{
 "cells": [
  {
   "cell_type": "code",
   "execution_count": 51,
   "metadata": {},
   "outputs": [
    {
     "name": "stdout",
     "output_type": "stream",
     "text": [
      "[[1, 10], [1, 20], [1, 30], [1, 40], [1, 50], [1, 60], [1, 70]]\n",
      "[0, 0, 0, 1, 1, 1, 1]\n"
     ]
    }
   ],
   "source": [
    "import numpy as np\n",
    "from math import *\n",
    "import matplotlib.pyplot as plt\n",
    "\n",
    "x=[[1,10],[1,20],[1,30],[1,40],[1,50],[1,60],[1,70]]\n",
    "y=[0, 0, 0, 1, 1, 1, 1]\n",
    "theta=[2,1]\n",
    "\n",
    "print(x)\n",
    "print(y)"
   ]
  },
  {
   "cell_type": "code",
   "execution_count": 52,
   "metadata": {},
   "outputs": [
    {
     "name": "stdout",
     "output_type": "stream",
     "text": [
      "[12 22 32 42 52 62 72]\n"
     ]
    }
   ],
   "source": [
    "def dot_product(a,b):\n",
    "    test_list=np.dot(a,b)\n",
    "    return test_list\n",
    "\n",
    "dot_p=dot_product(x,theta)\n",
    "print(dot_p)"
   ]
  },
  {
   "cell_type": "code",
   "execution_count": 53,
   "metadata": {},
   "outputs": [
    {
     "name": "stdout",
     "output_type": "stream",
     "text": [
      "[0.9999938558253978, 0.9999999997210531, 0.9999999999999873, 1.0, 1.0, 1.0, 1.0]\n"
     ]
    }
   ],
   "source": [
    "def hypothesis_fun(dot_p):\n",
    "    test_list=[]\n",
    "    for i in dot_p:\n",
    "        variable=(1/(1+np.exp(-i)))\n",
    "        test_list.append(variable)\n",
    "    return test_list;\n",
    "\n",
    "hypothesis_list=hypothesis_fun(dot_p);\n",
    "print(hypothesis_list)\n"
   ]
  },
  {
   "cell_type": "code",
   "execution_count": 54,
   "metadata": {},
   "outputs": [
    {
     "name": "stdout",
     "output_type": "stream",
     "text": [
      "[0.4285705507923483, 8.571419793239238]\n"
     ]
    }
   ],
   "source": [
    "def update_theta_fun(x,y,hypothesis_list):\n",
    "    v1=v2=0\n",
    "    d=[]\n",
    "    for i,j,k in zip(x,y,hypothesis_list):\n",
    "        v1+=(i[0]*(j-k))\n",
    "        v2+=(i[1]*(j-k))\n",
    "    d0=-1*(v1/len(x))\n",
    "    d1=-1*(v2/len(x))\n",
    "    d.append(d0)\n",
    "    d.append(d1)\n",
    "    return d;\n",
    "\n",
    "update_theta=update_theta_fun(x,y,hypothesis_list);\n",
    "print(update_theta)"
   ]
  },
  {
   "cell_type": "code",
   "execution_count": 55,
   "metadata": {},
   "outputs": [
    {
     "name": "stdout",
     "output_type": "stream",
     "text": [
      "[-20.02793588981442, 0.576592134730714]\n"
     ]
    }
   ],
   "source": [
    "def learning_fun(x):\n",
    "    theta=[0,0]\n",
    "    learning_value =0.1\n",
    "    for i in range(0,5000):\n",
    "        new_dot_p=dot_product(x,theta)\n",
    "        new_hypothesis_list=hypothesis_fun(new_dot_p)\n",
    "        new_theta=update_theta_fun(x,y,new_hypothesis_list)\n",
    "        theta[0]=theta[0]-(new_theta[0]*learning_value)\n",
    "        theta[1]=theta[1]-(new_theta[1]*learning_value)\n",
    "    return theta;\n",
    "\n",
    "learning_theta=learning_fun(x)\n",
    "print(learning_theta)\n",
    "    "
   ]
  },
  {
   "cell_type": "code",
   "execution_count": 56,
   "metadata": {},
   "outputs": [],
   "source": [
    "def check_y(y1):\n",
    "    if(y1>=0.5):\n",
    "        print(1)\n",
    "    else:\n",
    "        print(0)    "
   ]
  },
  {
   "cell_type": "code",
   "execution_count": 57,
   "metadata": {},
   "outputs": [],
   "source": [
    "def accuracy_y(x,learning_theta):\n",
    "    final_dot_p=dot_product(x,learning_theta)\n",
    "    final_hypothesis_list=hypothesis_fun(final_dot_p)\n",
    "    for i in final_hypothesis_list:\n",
    "            check_y(i)"
   ]
  },
  {
   "cell_type": "code",
   "execution_count": 58,
   "metadata": {},
   "outputs": [
    {
     "name": "stdout",
     "output_type": "stream",
     "text": [
      "0\n",
      "0\n",
      "0\n",
      "1\n",
      "1\n",
      "1\n",
      "1\n"
     ]
    }
   ],
   "source": [
    "accuracy_y(x,learning_theta)"
   ]
  },
  {
   "cell_type": "code",
   "execution_count": 62,
   "metadata": {},
   "outputs": [
    {
     "name": "stdout",
     "output_type": "stream",
     "text": [
      "0\n",
      "0\n",
      "0\n",
      "1\n"
     ]
    }
   ],
   "source": [
    "test_list=[[1,80],[1,25],[1,70],[1,110]]\n",
    "test_theta=learning_fun(test_list);\n",
    "accuracy_y(test_list,test_theta)\n"
   ]
  },
  {
   "cell_type": "code",
   "execution_count": null,
   "metadata": {},
   "outputs": [],
   "source": []
  }
 ],
 "metadata": {
  "kernelspec": {
   "display_name": "Python 3",
   "language": "python",
   "name": "python3"
  },
  "language_info": {
   "codemirror_mode": {
    "name": "ipython",
    "version": 3
   },
   "file_extension": ".py",
   "mimetype": "text/x-python",
   "name": "python",
   "nbconvert_exporter": "python",
   "pygments_lexer": "ipython3",
   "version": "3.7.3"
  }
 },
 "nbformat": 4,
 "nbformat_minor": 2
}
