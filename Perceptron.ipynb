{
 "cells": [
  {
   "cell_type": "code",
   "execution_count": 77,
   "metadata": {},
   "outputs": [
    {
     "name": "stdout",
     "output_type": "stream",
     "text": [
      "14\n",
      "14\n"
     ]
    }
   ],
   "source": [
    "import numpy as np\n",
    "import matplotlib.pyplot as plt\n",
    "\n",
    "x=[\n",
    "   [1,8,7],\n",
    "   [1,4,10],\n",
    "   [1,9,7],\n",
    "   [1,7,10],\n",
    "   [1,9,6],\n",
    "   [1,4,8],\n",
    "   [1,10,10],\n",
    "   [1,2,7],\n",
    "   [1,8,3],\n",
    "   [1,7,5],\n",
    "   [1,4,4],\n",
    "   [1,4,6],\n",
    "   [1,1,3],\n",
    "   [1,2,5]\n",
    "  ]\n",
    "print(len(x))\n",
    "y=[1.0,1.0,1.0,1.0,1.0,1.0,1.0,-1.0,-1.0,-1.0,-1.0,-1.0,-1.0,-1.0]\n",
    "print(len(y))\n",
    "x=np.array(x)\n",
    "y=np.array(y)"
   ]
  },
  {
   "cell_type": "code",
   "execution_count": 78,
   "metadata": {},
   "outputs": [],
   "source": [
    "def linear_regression(k,h):\n",
    "    val=0\n",
    "    for i,j in zip(k,h):  \n",
    "        val=val+(i*j)\n",
    "    return val\n",
    "\n",
    "def activate(val):\n",
    "    return np.sign(val)\n",
    "\n",
    "\n",
    "def predict(x,w):\n",
    "    hp=[]\n",
    "    for i in x: \n",
    "        lr=linear_regression(i,w)\n",
    "        h=activate(lr)\n",
    "        hp.append(h)\n",
    "    return hp\n"
   ]
  },
  {
   "cell_type": "code",
   "execution_count": 79,
   "metadata": {},
   "outputs": [],
   "source": [
    "def miss_class(py, y):\n",
    "    miss=[]\n",
    "    for i in range(len(y)):\n",
    "        if py[i]!=y[i]:\n",
    "            miss.append(i)\n",
    "    return miss"
   ]
  },
  {
   "cell_type": "code",
   "execution_count": 80,
   "metadata": {},
   "outputs": [],
   "source": [
    "def perceptron(x, y):\n",
    "    w = np.random.rand(3)\n",
    "    p_value=predict(x,w)     \n",
    "    miss=miss_class(p_value,y)\n",
    "    while len(miss)>0:\n",
    "        rnd=np.random.choice(miss)\n",
    "        rx=x[rnd]\n",
    "        ry=y[rnd]\n",
    "        w=w+(rx*ry)\n",
    "        p_value=predict(x,w)\n",
    "        miss=miss_class(p_value,y)\n",
    "    return w"
   ]
  },
  {
   "cell_type": "code",
   "execution_count": 81,
   "metadata": {},
   "outputs": [
    {
     "name": "stdout",
     "output_type": "stream",
     "text": [
      "[-45.06271118   1.36819097   5.76995829]\n"
     ]
    }
   ],
   "source": [
    "w=perceptron(x,y)\n",
    "w=np.array(w)\n",
    "print(w)"
   ]
  },
  {
   "cell_type": "code",
   "execution_count": 82,
   "metadata": {},
   "outputs": [
    {
     "name": "stdout",
     "output_type": "stream",
     "text": [
      "[1.0, 1.0, 1.0, 1.0, 1.0, 1.0, 1.0, -1.0, -1.0, -1.0, -1.0, -1.0, -1.0, -1.0]\n"
     ]
    }
   ],
   "source": [
    "pp=predict(x,w)\n",
    "print(pp)"
   ]
  },
  {
   "cell_type": "code",
   "execution_count": 88,
   "metadata": {},
   "outputs": [],
   "source": [
    "def accuracy(y,new_y):\n",
    "        count=0\n",
    "        for i,j in zip(y,new_y):\n",
    "                if(i==j):\n",
    "                    count+=1\n",
    "        if(len(y)!=0):\n",
    "            #print('old_y :',y)\n",
    "            count=count/len(y)\n",
    "            print('accuracy= ',count*100,'%')"
   ]
  },
  {
   "cell_type": "code",
   "execution_count": 89,
   "metadata": {},
   "outputs": [
    {
     "name": "stdout",
     "output_type": "stream",
     "text": [
      "accuracy=  100.0 %\n"
     ]
    }
   ],
   "source": [
    "accuracy(y,pp)"
   ]
  },
  {
   "cell_type": "code",
   "execution_count": null,
   "metadata": {},
   "outputs": [],
   "source": []
  }
 ],
 "metadata": {
  "kernelspec": {
   "display_name": "Python 3",
   "language": "python",
   "name": "python3"
  },
  "language_info": {
   "codemirror_mode": {
    "name": "ipython",
    "version": 3
   },
   "file_extension": ".py",
   "mimetype": "text/x-python",
   "name": "python",
   "nbconvert_exporter": "python",
   "pygments_lexer": "ipython3",
   "version": "3.7.3"
  }
 },
 "nbformat": 4,
 "nbformat_minor": 2
}
