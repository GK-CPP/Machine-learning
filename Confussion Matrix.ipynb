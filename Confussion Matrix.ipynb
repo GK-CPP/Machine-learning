{
 "cells": [
  {
   "cell_type": "code",
   "execution_count": 1,
   "metadata": {},
   "outputs": [
    {
     "name": "stdout",
     "output_type": "stream",
     "text": [
      "57.14285714285714  %\n",
      "66.66666666666666  %\n",
      "50.0  %\n",
      "66.66666666666666  %\n",
      "33.333333333333336  %\n"
     ]
    }
   ],
   "source": [
    "\n",
    "y=[1,1,-1,-1,1,1,-1];\n",
    "p=[1,1,-1,1,-1,-1,-1];\n",
    "\n",
    "def accuracy(a,b):\n",
    "    temp=0;\n",
    "    for i,j in zip(a,b):\n",
    "        if (i==j):\n",
    "            temp+=1;\n",
    "    ans=temp/len(a);\n",
    "    print(ans*100,\" %\");\n",
    "    \n",
    "def precission(a,b):\n",
    "    temp=0;\n",
    "    temp2=0;\n",
    "    for i,j in zip(a,b):\n",
    "        if (i==1 and j==1):\n",
    "            temp+=1;\n",
    "        if(i!=1 and j==1):\n",
    "            temp2+=1\n",
    "    ans=temp/(temp+temp2);\n",
    "    print(ans*100,\" %\");\n",
    "    \n",
    "def recall_TPR(a,b):\n",
    "    temp=0;\n",
    "    temp2=0;\n",
    "    for i,j in zip(a,b):\n",
    "        if (i==1 and j==1):\n",
    "            temp+=1; \n",
    "        if(i==1 and j!=1):\n",
    "            temp2+=1\n",
    "    ans=temp/(temp+temp2);\n",
    "    print(ans*100,\" %\");\n",
    "\n",
    "def specificity(a,b):\n",
    "    temp=0;\n",
    "    temp2=0;\n",
    "    for i,j in zip(a,b):\n",
    "        if (i!=1 and j!=1):\n",
    "            temp+=1; \n",
    "        if(i!=1 and j==1):\n",
    "            temp2+=1\n",
    "    ans=temp/(temp+temp2);\n",
    "    print(ans*100,\" %\");\n",
    "\n",
    "def FPR(a,b):\n",
    "    temp=0;\n",
    "    temp2=0;\n",
    "    for i,j in zip(a,b):\n",
    "        if (i!=1 and j!=1):\n",
    "            temp+=1; \n",
    "        if(i!=1 and j==1):\n",
    "            temp2+=1\n",
    "    ans=1-(temp/(temp+temp2));\n",
    "    print(ans*100,\" %\");\n",
    "        \n",
    "\n",
    "    \n",
    "accuracy(y,p);\n",
    "precission(y,p);\n",
    "recall_TPR(y,p);\n",
    "specificity(y,p);\n",
    "FPR(y,p);"
   ]
  },
  {
   "cell_type": "code",
   "execution_count": null,
   "metadata": {},
   "outputs": [],
   "source": []
  }
 ],
 "metadata": {
  "kernelspec": {
   "display_name": "Python 3",
   "language": "python",
   "name": "python3"
  },
  "language_info": {
   "codemirror_mode": {
    "name": "ipython",
    "version": 3
   },
   "file_extension": ".py",
   "mimetype": "text/x-python",
   "name": "python",
   "nbconvert_exporter": "python",
   "pygments_lexer": "ipython3",
   "version": "3.7.3"
  }
 },
 "nbformat": 4,
 "nbformat_minor": 2
}
