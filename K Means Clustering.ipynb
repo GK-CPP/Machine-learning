{
 "cells": [
  {
   "cell_type": "code",
   "execution_count": 56,
   "metadata": {},
   "outputs": [],
   "source": [
    "import numpy as np\n",
    "from math import *\n",
    "import matplotlib.pyplot as plt"
   ]
  },
  {
   "cell_type": "code",
   "execution_count": 57,
   "metadata": {},
   "outputs": [],
   "source": [
    "x = [\n",
    "    [12,39],\n",
    "    [20,36],\n",
    "    [28,30],\n",
    "    [18,52],\n",
    "    [29,54],\n",
    "    [33,46],\n",
    "    [24,55],\n",
    "    [45,59],\n",
    "    [45,63],\n",
    "    [52,70],\n",
    "    [51,66],\n",
    "    [52,63],\n",
    "    [55,58],\n",
    "    [53,23],\n",
    "    [55,14],\n",
    "    [61,8],\n",
    "    [64,19],\n",
    "    [69,7],\n",
    "    [72,24],\n",
    "]\n",
    "X = np.array(x)"
   ]
  },
  {
   "cell_type": "code",
   "execution_count": 58,
   "metadata": {},
   "outputs": [],
   "source": [
    "def get_random_centroids(k):\n",
    "    centroids={}\n",
    "    while True:\n",
    "        ri=np.random.choice(range(len(x)), k)\n",
    "        #print(ri)\n",
    "        if len(set(ri))==k:  #found distinct k indexes.\n",
    "            for i in range(k):\n",
    "                centroids[i]=x[ri[i]]\n",
    "            break\n",
    "\n",
    "    return centroids"
   ]
  },
  {
   "cell_type": "code",
   "execution_count": 59,
   "metadata": {},
   "outputs": [
    {
     "name": "stdout",
     "output_type": "stream",
     "text": [
      "{0: [29, 54], 1: [52, 70], 2: [55, 14]}\n"
     ]
    }
   ],
   "source": [
    "k = 3\n",
    "centroids=get_random_centroids(k)\n",
    "print(centroids)\n",
    "c1=centroids[0]\n",
    "c2=centroids[1]\n",
    "c3=centroids[2]"
   ]
  },
  {
   "cell_type": "code",
   "execution_count": 60,
   "metadata": {},
   "outputs": [],
   "source": [
    "def euclidianDistance(arr,c):\n",
    "    return np.sqrt( ((arr[0]-c[0])*(arr[0]-c[0]))+((arr[1]-c[1])*(arr[1]-c[1])) )"
   ]
  },
  {
   "cell_type": "code",
   "execution_count": 61,
   "metadata": {},
   "outputs": [],
   "source": [
    "def grouping(X):\n",
    "    g1 = []\n",
    "    g2 = []\n",
    "    g3 = []\n",
    "    sz = len(X)\n",
    "    #print(sz)\n",
    "    for i in range(sz):\n",
    "        data = X[i]\n",
    "        mn1 = euclidianDistance(data,c1)\n",
    "        mn2 = euclidianDistance(data,c2)\n",
    "        mn3 = euclidianDistance(data,c3)\n",
    "        if mn1<mn2 and mn1<mn3:\n",
    "            g1.append(data)\n",
    "        elif mn2<mn1 and mn2<mn3:\n",
    "            g2.append(data)\n",
    "        else:\n",
    "            g3.append(data)\n",
    "    return g1,g2,g3"
   ]
  },
  {
   "cell_type": "code",
   "execution_count": 62,
   "metadata": {},
   "outputs": [],
   "source": [
    "def average(grp):\n",
    "    #GRP = np.array(grp)\n",
    "    sz = len(grp)\n",
    "    left=0\n",
    "    right=0\n",
    "    #print(sz)\n",
    "    for i in range(sz):\n",
    "        t = grp[i] \n",
    "        left+=t[0]\n",
    "        right+=t[1]\n",
    "    c = [left/sz,right/sz]\n",
    "    return c"
   ]
  },
  {
   "cell_type": "code",
   "execution_count": 63,
   "metadata": {},
   "outputs": [
    {
     "name": "stdout",
     "output_type": "stream",
     "text": [
      "[23.428571428571427, 44.57142857142857]\n",
      "[50.0, 63.166666666666664]\n",
      "[62.333333333333336, 15.833333333333334]\n"
     ]
    }
   ],
   "source": [
    "while(1):\n",
    "    g1,g2,g3 = grouping(x)\n",
    "    c1 = average(g1)\n",
    "    c2 = average(g2)\n",
    "    c3 = average(g3)\n",
    "    \n",
    "    g1,g2,g3 = grouping(x)\n",
    "    c11 = average(g1)\n",
    "    c22 = average(g2)\n",
    "    c33 = average(g3)\n",
    "    \n",
    "    if c1==c11 and c2==c22 and c3==c33:\n",
    "        break\n",
    "print(c1)\n",
    "print(c2)\n",
    "print(c3)"
   ]
  },
  {
   "cell_type": "code",
   "execution_count": 64,
   "metadata": {},
   "outputs": [
    {
     "ename": "TypeError",
     "evalue": "list indices must be integers or slices, not tuple",
     "output_type": "error",
     "traceback": [
      "\u001b[1;31m---------------------------------------------------------------------------\u001b[0m",
      "\u001b[1;31mTypeError\u001b[0m                                 Traceback (most recent call last)",
      "\u001b[1;32m<ipython-input-64-18f8f4aeb76f>\u001b[0m in \u001b[0;36m<module>\u001b[1;34m\u001b[0m\n\u001b[1;32m----> 1\u001b[1;33m \u001b[0mplt\u001b[0m\u001b[1;33m.\u001b[0m\u001b[0mscatter\u001b[0m\u001b[1;33m(\u001b[0m\u001b[0mx\u001b[0m\u001b[1;33m[\u001b[0m\u001b[1;33m:\u001b[0m\u001b[1;33m,\u001b[0m\u001b[1;36m0\u001b[0m\u001b[1;33m]\u001b[0m\u001b[1;33m,\u001b[0m\u001b[0mx\u001b[0m\u001b[1;33m[\u001b[0m\u001b[1;33m:\u001b[0m\u001b[1;33m,\u001b[0m\u001b[1;36m1\u001b[0m\u001b[1;33m]\u001b[0m\u001b[1;33m,\u001b[0m\u001b[0mmarker\u001b[0m\u001b[1;33m=\u001b[0m\u001b[1;34m'o'\u001b[0m \u001b[1;33m)\u001b[0m\u001b[1;33m\u001b[0m\u001b[1;33m\u001b[0m\u001b[0m\n\u001b[0m\u001b[0;32m      2\u001b[0m \u001b[0mcolmap\u001b[0m \u001b[1;33m=\u001b[0m \u001b[1;33m{\u001b[0m\u001b[1;36m0\u001b[0m\u001b[1;33m:\u001b[0m \u001b[1;34m'r'\u001b[0m\u001b[1;33m,\u001b[0m \u001b[1;36m1\u001b[0m\u001b[1;33m:\u001b[0m \u001b[1;34m'g'\u001b[0m\u001b[1;33m,\u001b[0m \u001b[1;36m2\u001b[0m\u001b[1;33m:\u001b[0m \u001b[1;34m'y'\u001b[0m\u001b[1;33m,\u001b[0m \u001b[1;36m3\u001b[0m\u001b[1;33m:\u001b[0m\u001b[1;34m'b'\u001b[0m\u001b[1;33m}\u001b[0m\u001b[1;33m\u001b[0m\u001b[1;33m\u001b[0m\u001b[0m\n\u001b[0;32m      3\u001b[0m \u001b[0mplt\u001b[0m\u001b[1;33m.\u001b[0m\u001b[0mscatter\u001b[0m\u001b[1;33m(\u001b[0m\u001b[0mc1\u001b[0m\u001b[1;33m[\u001b[0m\u001b[1;36m0\u001b[0m\u001b[1;33m]\u001b[0m\u001b[1;33m,\u001b[0m \u001b[0mc1\u001b[0m\u001b[1;33m[\u001b[0m\u001b[1;36m1\u001b[0m\u001b[1;33m]\u001b[0m\u001b[1;33m,\u001b[0m \u001b[0mcolor\u001b[0m\u001b[1;33m=\u001b[0m\u001b[0mcolmap\u001b[0m\u001b[1;33m[\u001b[0m\u001b[1;36m0\u001b[0m\u001b[1;33m]\u001b[0m\u001b[1;33m)\u001b[0m\u001b[1;33m\u001b[0m\u001b[1;33m\u001b[0m\u001b[0m\n\u001b[0;32m      4\u001b[0m \u001b[0mplt\u001b[0m\u001b[1;33m.\u001b[0m\u001b[0mscatter\u001b[0m\u001b[1;33m(\u001b[0m\u001b[0mc2\u001b[0m\u001b[1;33m[\u001b[0m\u001b[1;36m0\u001b[0m\u001b[1;33m]\u001b[0m\u001b[1;33m,\u001b[0m \u001b[0mc2\u001b[0m\u001b[1;33m[\u001b[0m\u001b[1;36m1\u001b[0m\u001b[1;33m]\u001b[0m\u001b[1;33m,\u001b[0m \u001b[0mcolor\u001b[0m\u001b[1;33m=\u001b[0m\u001b[0mcolmap\u001b[0m\u001b[1;33m[\u001b[0m\u001b[1;36m1\u001b[0m\u001b[1;33m]\u001b[0m\u001b[1;33m)\u001b[0m\u001b[1;33m\u001b[0m\u001b[1;33m\u001b[0m\u001b[0m\n\u001b[0;32m      5\u001b[0m \u001b[0mplt\u001b[0m\u001b[1;33m.\u001b[0m\u001b[0mscatter\u001b[0m\u001b[1;33m(\u001b[0m\u001b[0mc3\u001b[0m\u001b[1;33m[\u001b[0m\u001b[1;36m0\u001b[0m\u001b[1;33m]\u001b[0m\u001b[1;33m,\u001b[0m \u001b[0mc3\u001b[0m\u001b[1;33m[\u001b[0m\u001b[1;36m1\u001b[0m\u001b[1;33m]\u001b[0m\u001b[1;33m,\u001b[0m \u001b[0mcolor\u001b[0m\u001b[1;33m=\u001b[0m\u001b[0mcolmap\u001b[0m\u001b[1;33m[\u001b[0m\u001b[1;36m2\u001b[0m\u001b[1;33m]\u001b[0m\u001b[1;33m)\u001b[0m\u001b[1;33m\u001b[0m\u001b[1;33m\u001b[0m\u001b[0m\n",
      "\u001b[1;31mTypeError\u001b[0m: list indices must be integers or slices, not tuple"
     ]
    }
   ],
   "source": [
    "plt.scatter(X[:,0],X[:,1],marker='o' )\n",
    "colmap = {0: 'r', 1: 'g', 2: 'y', 3:'b'}\n",
    "plt.scatter(c1[0], c1[1], color=colmap[0])\n",
    "plt.scatter(c2[0], c2[1], color=colmap[1])\n",
    "plt.scatter(c3[0], c3[1], color=colmap[2])\n",
    "plt.show()"
   ]
  },
  {
   "cell_type": "code",
   "execution_count": null,
   "metadata": {},
   "outputs": [],
   "source": []
  }
 ],
 "metadata": {
  "kernelspec": {
   "display_name": "Python 3",
   "language": "python",
   "name": "python3"
  },
  "language_info": {
   "codemirror_mode": {
    "name": "ipython",
    "version": 3
   },
   "file_extension": ".py",
   "mimetype": "text/x-python",
   "name": "python",
   "nbconvert_exporter": "python",
   "pygments_lexer": "ipython3",
   "version": "3.7.3"
  }
 },
 "nbformat": 4,
 "nbformat_minor": 2
}
